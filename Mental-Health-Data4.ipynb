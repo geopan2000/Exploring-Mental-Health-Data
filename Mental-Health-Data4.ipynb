{
  "nbformat": 4,
  "nbformat_minor": 0,
  "metadata": {
    "colab": {
      "provenance": [],
      "gpuType": "V28",
      "machine_shape": "hm",
      "authorship_tag": "ABX9TyP2/9rzbN/4Tw1MfRoeUAFh",
      "include_colab_link": true
    },
    "kernelspec": {
      "name": "python3",
      "display_name": "Python 3"
    },
    "language_info": {
      "name": "python"
    },
    "accelerator": "TPU"
  },
  "cells": [
    {
      "cell_type": "markdown",
      "metadata": {
        "id": "view-in-github",
        "colab_type": "text"
      },
      "source": [
        "<a href=\"https://colab.research.google.com/github/geopan2000/Exploring-Mental-Health-Data/blob/main/Mental-Health-Data4.ipynb\" target=\"_parent\"><img src=\"https://colab.research.google.com/assets/colab-badge.svg\" alt=\"Open In Colab\"/></a>"
      ]
    },
    {
      "cell_type": "code",
      "execution_count": 6,
      "metadata": {
        "id": "-qSSzXu6sNOP",
        "outputId": "c29cb786-c90c-4a5e-90fa-4d081fb66af4",
        "colab": {
          "base_uri": "https://localhost:8080/"
        }
      },
      "outputs": [
        {
          "output_type": "stream",
          "name": "stdout",
          "text": [
            "fatal: destination path 'Exploring-Mental-Health-Data' already exists and is not an empty directory.\n",
            "/content/Exploring-Mental-Health-Data\n"
          ]
        }
      ],
      "source": [
        "# Clone the GitHub repository\n",
        "!git clone https://github.com/geopan2000/Exploring-Mental-Health-Data.git\n",
        "\n",
        "# Change directory to the cloned repository\n",
        "%cd Exploring-Mental-Health-Data"
      ]
    },
    {
      "cell_type": "code",
      "source": [
        "import pandas as pd\n",
        "!pip install xgboost\n",
        "from xgboost import XGBClassifier\n",
        "from sklearn.decomposition import PCA\n",
        "from sklearn.linear_model import Lasso\n",
        "from sklearn.model_selection import train_test_split\n",
        "from sklearn.model_selection import KFold\n",
        "!pip install scikit-optimize\n",
        "from skopt import BayesSearchCV\n",
        "from skopt.space import Real, Integer\n",
        "import xgboost as xgb\n",
        "import pandas as pd\n",
        "from sklearn.metrics import classification_report, accuracy_score"
      ],
      "metadata": {
        "id": "xy-6SSxfCTjW",
        "colab": {
          "base_uri": "https://localhost:8080/"
        },
        "outputId": "e37f9c08-5aae-4e7a-922b-dacd3231709e"
      },
      "execution_count": 7,
      "outputs": [
        {
          "output_type": "stream",
          "name": "stdout",
          "text": [
            "Requirement already satisfied: xgboost in /usr/local/lib/python3.10/dist-packages (2.1.2)\n",
            "Requirement already satisfied: numpy in /usr/local/lib/python3.10/dist-packages (from xgboost) (1.26.4)\n",
            "Requirement already satisfied: nvidia-nccl-cu12 in /usr/local/lib/python3.10/dist-packages (from xgboost) (2.23.4)\n",
            "Requirement already satisfied: scipy in /usr/local/lib/python3.10/dist-packages (from xgboost) (1.13.1)\n",
            "Requirement already satisfied: scikit-optimize in /usr/local/lib/python3.10/dist-packages (0.10.2)\n",
            "Requirement already satisfied: joblib>=0.11 in /usr/local/lib/python3.10/dist-packages (from scikit-optimize) (1.4.2)\n",
            "Requirement already satisfied: pyaml>=16.9 in /usr/local/lib/python3.10/dist-packages (from scikit-optimize) (24.9.0)\n",
            "Requirement already satisfied: numpy>=1.20.3 in /usr/local/lib/python3.10/dist-packages (from scikit-optimize) (1.26.4)\n",
            "Requirement already satisfied: scipy>=1.1.0 in /usr/local/lib/python3.10/dist-packages (from scikit-optimize) (1.13.1)\n",
            "Requirement already satisfied: scikit-learn>=1.0.0 in /usr/local/lib/python3.10/dist-packages (from scikit-optimize) (1.5.2)\n",
            "Requirement already satisfied: packaging>=21.3 in /usr/local/lib/python3.10/dist-packages (from scikit-optimize) (24.2)\n",
            "Requirement already satisfied: PyYAML in /usr/local/lib/python3.10/dist-packages (from pyaml>=16.9->scikit-optimize) (6.0.2)\n",
            "Requirement already satisfied: threadpoolctl>=3.1.0 in /usr/local/lib/python3.10/dist-packages (from scikit-learn>=1.0.0->scikit-optimize) (3.5.0)\n"
          ]
        }
      ]
    },
    {
      "cell_type": "code",
      "source": [
        "train_set = pd.read_csv('/content/Exploring-Mental-Health-Data/data/train.csv')\n",
        "test_set = pd.read_csv('/content/Exploring-Mental-Health-Data/data/test.csv')"
      ],
      "metadata": {
        "id": "yh9AABJ5CX0f"
      },
      "execution_count": 8,
      "outputs": []
    },
    {
      "cell_type": "code",
      "source": [
        "train_set.head()"
      ],
      "metadata": {
        "id": "UQzDBpoXCip3",
        "outputId": "ee80eb1c-226a-467e-ce35-1ffa971c75b0",
        "colab": {
          "base_uri": "https://localhost:8080/",
          "height": 362
        }
      },
      "execution_count": 9,
      "outputs": [
        {
          "output_type": "execute_result",
          "data": {
            "text/plain": [
              "   id      Name  Gender   Age           City Working Professional or Student  \\\n",
              "0   0  Aaradhya  Female  49.0       Ludhiana            Working Professional   \n",
              "1   1     Vivan    Male  26.0       Varanasi            Working Professional   \n",
              "2   2    Yuvraj    Male  33.0  Visakhapatnam                         Student   \n",
              "3   3    Yuvraj    Male  22.0         Mumbai            Working Professional   \n",
              "4   4      Rhea  Female  30.0         Kanpur            Working Professional   \n",
              "\n",
              "         Profession  Academic Pressure  Work Pressure  CGPA  \\\n",
              "0              Chef                NaN            5.0   NaN   \n",
              "1           Teacher                NaN            4.0   NaN   \n",
              "2               NaN                5.0            NaN  8.97   \n",
              "3           Teacher                NaN            5.0   NaN   \n",
              "4  Business Analyst                NaN            1.0   NaN   \n",
              "\n",
              "   Study Satisfaction  Job Satisfaction     Sleep Duration Dietary Habits  \\\n",
              "0                 NaN               2.0  More than 8 hours        Healthy   \n",
              "1                 NaN               3.0  Less than 5 hours      Unhealthy   \n",
              "2                 2.0               NaN          5-6 hours        Healthy   \n",
              "3                 NaN               1.0  Less than 5 hours       Moderate   \n",
              "4                 NaN               1.0          5-6 hours      Unhealthy   \n",
              "\n",
              "    Degree Have you ever had suicidal thoughts ?  Work/Study Hours  \\\n",
              "0      BHM                                    No               1.0   \n",
              "1      LLB                                   Yes               7.0   \n",
              "2  B.Pharm                                   Yes               3.0   \n",
              "3      BBA                                   Yes              10.0   \n",
              "4      BBA                                   Yes               9.0   \n",
              "\n",
              "   Financial Stress Family History of Mental Illness  Depression  \n",
              "0               2.0                               No           0  \n",
              "1               3.0                               No           1  \n",
              "2               1.0                               No           1  \n",
              "3               1.0                              Yes           1  \n",
              "4               4.0                              Yes           0  "
            ],
            "text/html": [
              "\n",
              "  <div id=\"df-2c68641c-b318-4123-83b3-fb393d842946\" class=\"colab-df-container\">\n",
              "    <div>\n",
              "<style scoped>\n",
              "    .dataframe tbody tr th:only-of-type {\n",
              "        vertical-align: middle;\n",
              "    }\n",
              "\n",
              "    .dataframe tbody tr th {\n",
              "        vertical-align: top;\n",
              "    }\n",
              "\n",
              "    .dataframe thead th {\n",
              "        text-align: right;\n",
              "    }\n",
              "</style>\n",
              "<table border=\"1\" class=\"dataframe\">\n",
              "  <thead>\n",
              "    <tr style=\"text-align: right;\">\n",
              "      <th></th>\n",
              "      <th>id</th>\n",
              "      <th>Name</th>\n",
              "      <th>Gender</th>\n",
              "      <th>Age</th>\n",
              "      <th>City</th>\n",
              "      <th>Working Professional or Student</th>\n",
              "      <th>Profession</th>\n",
              "      <th>Academic Pressure</th>\n",
              "      <th>Work Pressure</th>\n",
              "      <th>CGPA</th>\n",
              "      <th>Study Satisfaction</th>\n",
              "      <th>Job Satisfaction</th>\n",
              "      <th>Sleep Duration</th>\n",
              "      <th>Dietary Habits</th>\n",
              "      <th>Degree</th>\n",
              "      <th>Have you ever had suicidal thoughts ?</th>\n",
              "      <th>Work/Study Hours</th>\n",
              "      <th>Financial Stress</th>\n",
              "      <th>Family History of Mental Illness</th>\n",
              "      <th>Depression</th>\n",
              "    </tr>\n",
              "  </thead>\n",
              "  <tbody>\n",
              "    <tr>\n",
              "      <th>0</th>\n",
              "      <td>0</td>\n",
              "      <td>Aaradhya</td>\n",
              "      <td>Female</td>\n",
              "      <td>49.0</td>\n",
              "      <td>Ludhiana</td>\n",
              "      <td>Working Professional</td>\n",
              "      <td>Chef</td>\n",
              "      <td>NaN</td>\n",
              "      <td>5.0</td>\n",
              "      <td>NaN</td>\n",
              "      <td>NaN</td>\n",
              "      <td>2.0</td>\n",
              "      <td>More than 8 hours</td>\n",
              "      <td>Healthy</td>\n",
              "      <td>BHM</td>\n",
              "      <td>No</td>\n",
              "      <td>1.0</td>\n",
              "      <td>2.0</td>\n",
              "      <td>No</td>\n",
              "      <td>0</td>\n",
              "    </tr>\n",
              "    <tr>\n",
              "      <th>1</th>\n",
              "      <td>1</td>\n",
              "      <td>Vivan</td>\n",
              "      <td>Male</td>\n",
              "      <td>26.0</td>\n",
              "      <td>Varanasi</td>\n",
              "      <td>Working Professional</td>\n",
              "      <td>Teacher</td>\n",
              "      <td>NaN</td>\n",
              "      <td>4.0</td>\n",
              "      <td>NaN</td>\n",
              "      <td>NaN</td>\n",
              "      <td>3.0</td>\n",
              "      <td>Less than 5 hours</td>\n",
              "      <td>Unhealthy</td>\n",
              "      <td>LLB</td>\n",
              "      <td>Yes</td>\n",
              "      <td>7.0</td>\n",
              "      <td>3.0</td>\n",
              "      <td>No</td>\n",
              "      <td>1</td>\n",
              "    </tr>\n",
              "    <tr>\n",
              "      <th>2</th>\n",
              "      <td>2</td>\n",
              "      <td>Yuvraj</td>\n",
              "      <td>Male</td>\n",
              "      <td>33.0</td>\n",
              "      <td>Visakhapatnam</td>\n",
              "      <td>Student</td>\n",
              "      <td>NaN</td>\n",
              "      <td>5.0</td>\n",
              "      <td>NaN</td>\n",
              "      <td>8.97</td>\n",
              "      <td>2.0</td>\n",
              "      <td>NaN</td>\n",
              "      <td>5-6 hours</td>\n",
              "      <td>Healthy</td>\n",
              "      <td>B.Pharm</td>\n",
              "      <td>Yes</td>\n",
              "      <td>3.0</td>\n",
              "      <td>1.0</td>\n",
              "      <td>No</td>\n",
              "      <td>1</td>\n",
              "    </tr>\n",
              "    <tr>\n",
              "      <th>3</th>\n",
              "      <td>3</td>\n",
              "      <td>Yuvraj</td>\n",
              "      <td>Male</td>\n",
              "      <td>22.0</td>\n",
              "      <td>Mumbai</td>\n",
              "      <td>Working Professional</td>\n",
              "      <td>Teacher</td>\n",
              "      <td>NaN</td>\n",
              "      <td>5.0</td>\n",
              "      <td>NaN</td>\n",
              "      <td>NaN</td>\n",
              "      <td>1.0</td>\n",
              "      <td>Less than 5 hours</td>\n",
              "      <td>Moderate</td>\n",
              "      <td>BBA</td>\n",
              "      <td>Yes</td>\n",
              "      <td>10.0</td>\n",
              "      <td>1.0</td>\n",
              "      <td>Yes</td>\n",
              "      <td>1</td>\n",
              "    </tr>\n",
              "    <tr>\n",
              "      <th>4</th>\n",
              "      <td>4</td>\n",
              "      <td>Rhea</td>\n",
              "      <td>Female</td>\n",
              "      <td>30.0</td>\n",
              "      <td>Kanpur</td>\n",
              "      <td>Working Professional</td>\n",
              "      <td>Business Analyst</td>\n",
              "      <td>NaN</td>\n",
              "      <td>1.0</td>\n",
              "      <td>NaN</td>\n",
              "      <td>NaN</td>\n",
              "      <td>1.0</td>\n",
              "      <td>5-6 hours</td>\n",
              "      <td>Unhealthy</td>\n",
              "      <td>BBA</td>\n",
              "      <td>Yes</td>\n",
              "      <td>9.0</td>\n",
              "      <td>4.0</td>\n",
              "      <td>Yes</td>\n",
              "      <td>0</td>\n",
              "    </tr>\n",
              "  </tbody>\n",
              "</table>\n",
              "</div>\n",
              "    <div class=\"colab-df-buttons\">\n",
              "\n",
              "  <div class=\"colab-df-container\">\n",
              "    <button class=\"colab-df-convert\" onclick=\"convertToInteractive('df-2c68641c-b318-4123-83b3-fb393d842946')\"\n",
              "            title=\"Convert this dataframe to an interactive table.\"\n",
              "            style=\"display:none;\">\n",
              "\n",
              "  <svg xmlns=\"http://www.w3.org/2000/svg\" height=\"24px\" viewBox=\"0 -960 960 960\">\n",
              "    <path d=\"M120-120v-720h720v720H120Zm60-500h600v-160H180v160Zm220 220h160v-160H400v160Zm0 220h160v-160H400v160ZM180-400h160v-160H180v160Zm440 0h160v-160H620v160ZM180-180h160v-160H180v160Zm440 0h160v-160H620v160Z\"/>\n",
              "  </svg>\n",
              "    </button>\n",
              "\n",
              "  <style>\n",
              "    .colab-df-container {\n",
              "      display:flex;\n",
              "      gap: 12px;\n",
              "    }\n",
              "\n",
              "    .colab-df-convert {\n",
              "      background-color: #E8F0FE;\n",
              "      border: none;\n",
              "      border-radius: 50%;\n",
              "      cursor: pointer;\n",
              "      display: none;\n",
              "      fill: #1967D2;\n",
              "      height: 32px;\n",
              "      padding: 0 0 0 0;\n",
              "      width: 32px;\n",
              "    }\n",
              "\n",
              "    .colab-df-convert:hover {\n",
              "      background-color: #E2EBFA;\n",
              "      box-shadow: 0px 1px 2px rgba(60, 64, 67, 0.3), 0px 1px 3px 1px rgba(60, 64, 67, 0.15);\n",
              "      fill: #174EA6;\n",
              "    }\n",
              "\n",
              "    .colab-df-buttons div {\n",
              "      margin-bottom: 4px;\n",
              "    }\n",
              "\n",
              "    [theme=dark] .colab-df-convert {\n",
              "      background-color: #3B4455;\n",
              "      fill: #D2E3FC;\n",
              "    }\n",
              "\n",
              "    [theme=dark] .colab-df-convert:hover {\n",
              "      background-color: #434B5C;\n",
              "      box-shadow: 0px 1px 3px 1px rgba(0, 0, 0, 0.15);\n",
              "      filter: drop-shadow(0px 1px 2px rgba(0, 0, 0, 0.3));\n",
              "      fill: #FFFFFF;\n",
              "    }\n",
              "  </style>\n",
              "\n",
              "    <script>\n",
              "      const buttonEl =\n",
              "        document.querySelector('#df-2c68641c-b318-4123-83b3-fb393d842946 button.colab-df-convert');\n",
              "      buttonEl.style.display =\n",
              "        google.colab.kernel.accessAllowed ? 'block' : 'none';\n",
              "\n",
              "      async function convertToInteractive(key) {\n",
              "        const element = document.querySelector('#df-2c68641c-b318-4123-83b3-fb393d842946');\n",
              "        const dataTable =\n",
              "          await google.colab.kernel.invokeFunction('convertToInteractive',\n",
              "                                                    [key], {});\n",
              "        if (!dataTable) return;\n",
              "\n",
              "        const docLinkHtml = 'Like what you see? Visit the ' +\n",
              "          '<a target=\"_blank\" href=https://colab.research.google.com/notebooks/data_table.ipynb>data table notebook</a>'\n",
              "          + ' to learn more about interactive tables.';\n",
              "        element.innerHTML = '';\n",
              "        dataTable['output_type'] = 'display_data';\n",
              "        await google.colab.output.renderOutput(dataTable, element);\n",
              "        const docLink = document.createElement('div');\n",
              "        docLink.innerHTML = docLinkHtml;\n",
              "        element.appendChild(docLink);\n",
              "      }\n",
              "    </script>\n",
              "  </div>\n",
              "\n",
              "\n",
              "<div id=\"df-c448e9f2-f461-4d9a-977c-572c2c4b8c21\">\n",
              "  <button class=\"colab-df-quickchart\" onclick=\"quickchart('df-c448e9f2-f461-4d9a-977c-572c2c4b8c21')\"\n",
              "            title=\"Suggest charts\"\n",
              "            style=\"display:none;\">\n",
              "\n",
              "<svg xmlns=\"http://www.w3.org/2000/svg\" height=\"24px\"viewBox=\"0 0 24 24\"\n",
              "     width=\"24px\">\n",
              "    <g>\n",
              "        <path d=\"M19 3H5c-1.1 0-2 .9-2 2v14c0 1.1.9 2 2 2h14c1.1 0 2-.9 2-2V5c0-1.1-.9-2-2-2zM9 17H7v-7h2v7zm4 0h-2V7h2v10zm4 0h-2v-4h2v4z\"/>\n",
              "    </g>\n",
              "</svg>\n",
              "  </button>\n",
              "\n",
              "<style>\n",
              "  .colab-df-quickchart {\n",
              "      --bg-color: #E8F0FE;\n",
              "      --fill-color: #1967D2;\n",
              "      --hover-bg-color: #E2EBFA;\n",
              "      --hover-fill-color: #174EA6;\n",
              "      --disabled-fill-color: #AAA;\n",
              "      --disabled-bg-color: #DDD;\n",
              "  }\n",
              "\n",
              "  [theme=dark] .colab-df-quickchart {\n",
              "      --bg-color: #3B4455;\n",
              "      --fill-color: #D2E3FC;\n",
              "      --hover-bg-color: #434B5C;\n",
              "      --hover-fill-color: #FFFFFF;\n",
              "      --disabled-bg-color: #3B4455;\n",
              "      --disabled-fill-color: #666;\n",
              "  }\n",
              "\n",
              "  .colab-df-quickchart {\n",
              "    background-color: var(--bg-color);\n",
              "    border: none;\n",
              "    border-radius: 50%;\n",
              "    cursor: pointer;\n",
              "    display: none;\n",
              "    fill: var(--fill-color);\n",
              "    height: 32px;\n",
              "    padding: 0;\n",
              "    width: 32px;\n",
              "  }\n",
              "\n",
              "  .colab-df-quickchart:hover {\n",
              "    background-color: var(--hover-bg-color);\n",
              "    box-shadow: 0 1px 2px rgba(60, 64, 67, 0.3), 0 1px 3px 1px rgba(60, 64, 67, 0.15);\n",
              "    fill: var(--button-hover-fill-color);\n",
              "  }\n",
              "\n",
              "  .colab-df-quickchart-complete:disabled,\n",
              "  .colab-df-quickchart-complete:disabled:hover {\n",
              "    background-color: var(--disabled-bg-color);\n",
              "    fill: var(--disabled-fill-color);\n",
              "    box-shadow: none;\n",
              "  }\n",
              "\n",
              "  .colab-df-spinner {\n",
              "    border: 2px solid var(--fill-color);\n",
              "    border-color: transparent;\n",
              "    border-bottom-color: var(--fill-color);\n",
              "    animation:\n",
              "      spin 1s steps(1) infinite;\n",
              "  }\n",
              "\n",
              "  @keyframes spin {\n",
              "    0% {\n",
              "      border-color: transparent;\n",
              "      border-bottom-color: var(--fill-color);\n",
              "      border-left-color: var(--fill-color);\n",
              "    }\n",
              "    20% {\n",
              "      border-color: transparent;\n",
              "      border-left-color: var(--fill-color);\n",
              "      border-top-color: var(--fill-color);\n",
              "    }\n",
              "    30% {\n",
              "      border-color: transparent;\n",
              "      border-left-color: var(--fill-color);\n",
              "      border-top-color: var(--fill-color);\n",
              "      border-right-color: var(--fill-color);\n",
              "    }\n",
              "    40% {\n",
              "      border-color: transparent;\n",
              "      border-right-color: var(--fill-color);\n",
              "      border-top-color: var(--fill-color);\n",
              "    }\n",
              "    60% {\n",
              "      border-color: transparent;\n",
              "      border-right-color: var(--fill-color);\n",
              "    }\n",
              "    80% {\n",
              "      border-color: transparent;\n",
              "      border-right-color: var(--fill-color);\n",
              "      border-bottom-color: var(--fill-color);\n",
              "    }\n",
              "    90% {\n",
              "      border-color: transparent;\n",
              "      border-bottom-color: var(--fill-color);\n",
              "    }\n",
              "  }\n",
              "</style>\n",
              "\n",
              "  <script>\n",
              "    async function quickchart(key) {\n",
              "      const quickchartButtonEl =\n",
              "        document.querySelector('#' + key + ' button');\n",
              "      quickchartButtonEl.disabled = true;  // To prevent multiple clicks.\n",
              "      quickchartButtonEl.classList.add('colab-df-spinner');\n",
              "      try {\n",
              "        const charts = await google.colab.kernel.invokeFunction(\n",
              "            'suggestCharts', [key], {});\n",
              "      } catch (error) {\n",
              "        console.error('Error during call to suggestCharts:', error);\n",
              "      }\n",
              "      quickchartButtonEl.classList.remove('colab-df-spinner');\n",
              "      quickchartButtonEl.classList.add('colab-df-quickchart-complete');\n",
              "    }\n",
              "    (() => {\n",
              "      let quickchartButtonEl =\n",
              "        document.querySelector('#df-c448e9f2-f461-4d9a-977c-572c2c4b8c21 button');\n",
              "      quickchartButtonEl.style.display =\n",
              "        google.colab.kernel.accessAllowed ? 'block' : 'none';\n",
              "    })();\n",
              "  </script>\n",
              "</div>\n",
              "\n",
              "    </div>\n",
              "  </div>\n"
            ],
            "application/vnd.google.colaboratory.intrinsic+json": {
              "type": "dataframe",
              "variable_name": "train_set"
            }
          },
          "metadata": {},
          "execution_count": 9
        }
      ]
    },
    {
      "cell_type": "markdown",
      "source": [
        "# Feature Engineering:\n"
      ],
      "metadata": {
        "id": "qm9h56dJLbEC"
      }
    },
    {
      "cell_type": "code",
      "source": [
        "train_id = train_set['id']\n",
        "\n",
        "target_variable = train_set['Depression']\n",
        "train_set.drop(columns=['id','Name','Depression'], inplace=True)\n",
        "test_id = test_set['id']\n",
        "\n",
        "test_set.drop(columns=['id','Name'], inplace=True)\n",
        "\n",
        "train_set['Gender'] = train_set['Gender'].map({'Male' : 1, 'Female' : 0}) # Always trasnforming 2 option object types into binary\n",
        "test_set['Gender'] = test_set['Gender'].map({'Male' : 1, 'Female' : 0})\n",
        "\n",
        "train_set['Age'] = train_set['Age'] / 100 # Normalized by the Max value\n",
        "train_set['Age'] = train_set['Age'].fillna(train_set['Age'].mean())\n",
        "test_set['Age'] = test_set['Age'] / 100\n",
        "test_set['Age'] = test_set['Age'].fillna(test_set['Age'].mean())\n",
        "\n",
        "train_set['Working Professional or Student'] = train_set['Working Professional or Student'].map({'Working Professional' : 1, 'Student' : 0}) # Always trasnforming 2 option object types into binary\n",
        "test_set['Working Professional or Student'] = test_set['Working Professional or Student'].map({'Working Professional' : 1, 'Student' : 0})\n",
        "\n",
        "train_set['CGPA'] = train_set['CGPA'] /10\n",
        "train_set['CGPA'] = train_set['CGPA'].fillna(0)\n",
        "test_set['CGPA'] = test_set['CGPA'] /10\n",
        "test_set['CGPA'] = test_set['CGPA'].fillna(0)\n",
        "\n",
        "train_set['Have you ever had suicidal thoughts ?'] = train_set['Have you ever had suicidal thoughts ?'].map({'Yes' : 1, 'No' : 0}) # Always trasnforming 2 option object types into binary\n",
        "test_set['Have you ever had suicidal thoughts ?'] = test_set['Have you ever had suicidal thoughts ?'].map({'Yes' : 1, 'No' : 0})\n",
        "\n",
        "train_set['Work/Study Hours'] = train_set['Work/Study Hours'] / 24 # Normalized by the Max value\n",
        "test_set['Work/Study Hours'] = test_set['Work/Study Hours'] / 24\n",
        "\n",
        "train_set['Financial Stress'] = train_set['Financial Stress'] / 5 # Normalized by the Max value\n",
        "train_set['Financial Stress'] = train_set['Financial Stress'].fillna(0)\n",
        "test_set['Financial Stress'] = test_set['Financial Stress'] / 5\n",
        "test_set['Financial Stress'] = test_set['Financial Stress'].fillna(0)\n",
        "\n",
        "train_set['Family History of Mental Illness'] = train_set['Family History of Mental Illness'].map({'Yes' : 1, 'No' : 0}) # Always trasnforming 2 option object types into binary\n",
        "test_set['Family History of Mental Illness'] = test_set['Family History of Mental Illness'].map({'Yes' : 1, 'No' : 0})"
      ],
      "metadata": {
        "id": "9DqcZW0JLXRz"
      },
      "execution_count": 10,
      "outputs": []
    },
    {
      "cell_type": "code",
      "source": [
        "# Create the new feature 'Academic/Work Pressure'\n",
        "train_set['Academic/Work Pressure'] = train_set.apply(\n",
        "    lambda row: row['Academic Pressure'] if pd.notna(row['Academic Pressure']) and pd.isna(row['Work Pressure']) else\n",
        "                row['Work Pressure'] if pd.isna(row['Academic Pressure']) and pd.notna(row['Work Pressure']) else\n",
        "                (row['Academic Pressure'] + row['Work Pressure']) / 2 if pd.notna(row['Academic Pressure']) and pd.notna(row['Work Pressure']) else\n",
        "                None,  # Placeholder for rows where both are NaN\n",
        "    axis=1)\n",
        "\n",
        "# Fill any remaining NaN in 'Academic/Work Pressure' with its mean\n",
        "train_set['Academic/Work Pressure'] = train_set['Academic/Work Pressure'].fillna(train_set['Academic/Work Pressure'].mean())\n",
        "\n",
        "train_set['Academic Pressure'] = train_set['Academic Pressure'] / 5\n",
        "train_set['Academic Pressure'] = train_set['Academic Pressure'].fillna(0)\n",
        "\n",
        "train_set['Work Pressure'] = train_set['Work Pressure'] / 5\n",
        "train_set['Work Pressure'] = train_set['Work Pressure'].fillna(0)"
      ],
      "metadata": {
        "id": "nsrLzYkZNrf8"
      },
      "execution_count": 11,
      "outputs": []
    },
    {
      "cell_type": "code",
      "source": [
        "# Create the new feature 'Academic/Work Pressure'\n",
        "test_set['Academic/Work Pressure'] = test_set.apply(\n",
        "    lambda row: row['Academic Pressure'] if pd.notna(row['Academic Pressure']) and pd.isna(row['Work Pressure']) else\n",
        "                row['Work Pressure'] if pd.isna(row['Academic Pressure']) and pd.notna(row['Work Pressure']) else\n",
        "                (row['Academic Pressure'] + row['Work Pressure']) / 2 if pd.notna(row['Academic Pressure']) and pd.notna(row['Work Pressure']) else\n",
        "                None,  # Placeholder for rows where both are NaN\n",
        "    axis=1)\n",
        "\n",
        "# Fill any remaining NaN in 'Academic/Work Pressure' with its mean\n",
        "test_set['Academic/Work Pressure'] = test_set['Academic/Work Pressure'].fillna(test_set['Academic/Work Pressure'].mean())\n",
        "\n",
        "test_set['Academic Pressure'] = test_set['Academic Pressure'] / 5\n",
        "test_set['Academic Pressure'] = test_set['Academic Pressure'].fillna(0)\n",
        "\n",
        "test_set['Work Pressure'] = test_set['Work Pressure'] / 5\n",
        "test_set['Work Pressure'] = test_set['Work Pressure'].fillna(0)"
      ],
      "metadata": {
        "id": "NlJKv80WnYZ3"
      },
      "execution_count": 12,
      "outputs": []
    },
    {
      "cell_type": "code",
      "source": [
        "# Create the new feature Study/Job Satisfaction\n",
        "train_set['Study/Job Satisfaction'] = train_set.apply(\n",
        "    lambda row: row['Study Satisfaction'] if pd.notna(row['Study Satisfaction']) and pd.isna(row['Job Satisfaction']) else\n",
        "                row['Job Satisfaction'] if pd.isna(row['Study Satisfaction']) and pd.notna(row['Job Satisfaction']) else\n",
        "                (row['Study Satisfaction'] + row['Job Satisfaction']) / 2 if pd.notna(row['Study Satisfaction']) and pd.notna(row['Job Satisfaction']) else\n",
        "                None,  # Placeholder for rows where both are NaN\n",
        "    axis=1)\n",
        "\n",
        "# Fill any remaining NaN in Study/Job Satisfaction with its mean\n",
        "train_set['Study/Job Satisfaction'] = train_set['Study/Job Satisfaction'].fillna(train_set['Study/Job Satisfaction'].mean())\n",
        "\n",
        "train_set['Study Satisfaction'] = train_set['Study Satisfaction'] / 5\n",
        "train_set['Study Satisfaction'] = train_set['Study Satisfaction'].fillna(0)\n",
        "\n",
        "train_set['Job Satisfaction'] = train_set['Job Satisfaction'] / 5\n",
        "train_set['Job Satisfaction'] = train_set['Job Satisfaction'].fillna(0)"
      ],
      "metadata": {
        "id": "RLBK-FG1Ny4C"
      },
      "execution_count": 13,
      "outputs": []
    },
    {
      "cell_type": "code",
      "source": [
        "# Create the new feature Study/Job Satisfaction\n",
        "test_set['Study/Job Satisfaction'] = test_set.apply(\n",
        "    lambda row: row['Study Satisfaction'] if pd.notna(row['Study Satisfaction']) and pd.isna(row['Job Satisfaction']) else\n",
        "                row['Job Satisfaction'] if pd.isna(row['Study Satisfaction']) and pd.notna(row['Job Satisfaction']) else\n",
        "                (row['Study Satisfaction'] + row['Job Satisfaction']) / 2 if pd.notna(row['Study Satisfaction']) and pd.notna(row['Job Satisfaction']) else\n",
        "                None,  # Placeholder for rows where both are NaN\n",
        "    axis=1)\n",
        "\n",
        "# Fill any remaining NaN in Study/Job Satisfaction with its mean\n",
        "test_set['Study/Job Satisfaction'] = test_set['Study/Job Satisfaction'].fillna(test_set['Study/Job Satisfaction'].mean())\n",
        "\n",
        "test_set['Study Satisfaction'] = test_set['Study Satisfaction'] / 5\n",
        "test_set['Study Satisfaction'] = test_set['Study Satisfaction'].fillna(0)\n",
        "\n",
        "test_set['Job Satisfaction'] = test_set['Job Satisfaction'] / 5\n",
        "test_set['Job Satisfaction'] = test_set['Job Satisfaction'].fillna(0)"
      ],
      "metadata": {
        "id": "8cEjqk0dnhQd"
      },
      "execution_count": 14,
      "outputs": []
    },
    {
      "cell_type": "code",
      "source": [
        "# Combine train and test value counts\n",
        "train_counts = train_set['City'].value_counts()\n",
        "test_counts = test_set['City'].value_counts()\n",
        "\n",
        "# Create a combined count of professions\n",
        "combined_counts = train_counts.add(test_counts, fill_value=0)\n",
        "\n",
        "# Identify professions appearing less than 5 times in either set\n",
        "low_frequency_values = combined_counts[combined_counts < 10].index.tolist()\n",
        "\n",
        "# Map low-frequency values to 'None' in both train and test sets\n",
        "train_set['City'] = train_set['City'].apply(lambda x: 'Other' if x in low_frequency_values else x)\n",
        "test_set['City'] = test_set['City'].apply(lambda x: 'Other' if x in low_frequency_values else x)"
      ],
      "metadata": {
        "id": "WBJlJvkDQNkT"
      },
      "execution_count": 15,
      "outputs": []
    },
    {
      "cell_type": "code",
      "source": [
        "# Combine train and test value counts\n",
        "train_counts = train_set['Profession'].value_counts()\n",
        "test_counts = test_set['Profession'].value_counts()\n",
        "\n",
        "# Create a combined count of professions\n",
        "combined_counts = train_counts.add(test_counts, fill_value=0)\n",
        "\n",
        "# Identify professions appearing less than 5 times in either set\n",
        "low_frequency_values = combined_counts[combined_counts < 10].index.tolist()\n",
        "\n",
        "# Map low-frequency values to 'None' in both train and test sets\n",
        "train_set['Profession'] = train_set['Profession'].apply(lambda x: 'Other' if x in low_frequency_values else x)\n",
        "test_set['Profession'] = test_set['Profession'].apply(lambda x: 'Other' if x in low_frequency_values else x)"
      ],
      "metadata": {
        "id": "jtPh01G6P8IL"
      },
      "execution_count": 16,
      "outputs": []
    },
    {
      "cell_type": "code",
      "source": [
        "# Combine train and test value counts\n",
        "train_counts = train_set['Degree'].value_counts()\n",
        "test_counts = test_set['Degree'].value_counts()\n",
        "\n",
        "# Create a combined count of professions\n",
        "combined_counts = train_counts.add(test_counts, fill_value=0)\n",
        "\n",
        "# Identify professions appearing less than 5 times in either set\n",
        "low_frequency_values = combined_counts[combined_counts < 10].index.tolist()\n",
        "\n",
        "# Map low-frequency values to 'None' in both train and test sets\n",
        "train_set['Degree'] = train_set['Degree'].apply(lambda x: 'Other' if x in low_frequency_values else x)\n",
        "test_set['Degree'] = test_set['Degree'].apply(lambda x: 'Other' if x in low_frequency_values else x)"
      ],
      "metadata": {
        "id": "SXwCvPvIQdpq"
      },
      "execution_count": 17,
      "outputs": []
    },
    {
      "cell_type": "code",
      "source": [
        "train_set['City'] = train_set['City'].fillna('Other')\n",
        "freq = train_set['City'].value_counts()\n",
        "train_set['City_freq'] = train_set['City'].map(freq) # Frequency encoding different cities\n",
        "\n",
        "test_set['City'] = test_set['City'].fillna('Other')\n",
        "test_set['City_freq'] = test_set['City'].map(freq) # Frequency encoding different cities\n",
        "\n",
        "\n",
        "train_set['Degree'] = train_set['Degree'].fillna('Other')\n",
        "freq = train_set['Degree'].value_counts()\n",
        "train_set['Degree_freq'] = train_set['Degree'].map(freq) # Frequency encoding\n",
        "\n",
        "test_set['Degree'] = test_set['Degree'].fillna('Other')\n",
        "test_set['Degree_freq'] = test_set['Degree'].map(freq) # Frequency encoding\n",
        "\n",
        "\n",
        "train_set['Profession'] = train_set['Profession'].fillna('Other')\n",
        "freq = train_set['Profession'].value_counts()\n",
        "train_set['Profession_freq'] = train_set['Profession'].map(freq) # Frequency encoding\n",
        "\n",
        "test_set['Profession'] = test_set['Profession'].fillna('Other')\n",
        "test_set['Profession_freq'] = test_set['Profession'].map(freq) # Frequency encoding"
      ],
      "metadata": {
        "id": "bm168rqvSxtd"
      },
      "execution_count": 18,
      "outputs": []
    },
    {
      "cell_type": "code",
      "source": [
        "# Save the original number of rows for splitting later\n",
        "train_size = len(train_set)\n",
        "\n",
        "# Concatenate train and test sets\n",
        "concat_set = pd.concat([train_set, test_set], axis=0)\n",
        "\n",
        "# Apply one-hot encoding to the concatenated set\n",
        "concat_set = pd.get_dummies(concat_set, columns=['Degree', 'Profession', 'City'])\n",
        "\n",
        "# Split the concatenated set back into train and test sets\n",
        "train_set = concat_set.iloc[:train_size, :].copy()  # Get the original train rows\n",
        "test_set = concat_set.iloc[train_size:, :].copy()   # Get the original test rows\n",
        "\n",
        "print(\"Train set shape:\", train_set.shape)\n",
        "print(\"Test set shape:\", test_set.shape)"
      ],
      "metadata": {
        "id": "mdoyvMXlhcZn",
        "colab": {
          "base_uri": "https://localhost:8080/"
        },
        "outputId": "1322cb98-667a-4087-877e-164e0865d8d1"
      },
      "execution_count": 19,
      "outputs": [
        {
          "output_type": "stream",
          "name": "stdout",
          "text": [
            "Train set shape: (140700, 116)\n",
            "Test set shape: (93800, 116)\n"
          ]
        }
      ]
    },
    {
      "cell_type": "code",
      "source": [
        " #Define a function to encode Sleep Duration\n",
        "def encode_sleep_duration(value):\n",
        "    # Check for NaN or None\n",
        "    if pd.isna(value):\n",
        "        return -1  # Placeholder for missing or invalid values\n",
        "\n",
        "    # Ensure the value is a string\n",
        "    value = str(value).strip()\n",
        "\n",
        "    # Encoding logic\n",
        "    if 'Less than 5 hours' in value or value in ['3-4 hours', '4-5 hours', '2-3 hours']:\n",
        "        return 1  # < 5 hours\n",
        "    elif '5-6 hours' in value:\n",
        "        return 2  # 5-6 hours\n",
        "    elif '6-7 hours' in value or '6-8 hours' in value:\n",
        "        return 3  # 6-7 hours\n",
        "    elif '7-8 hours' in value:\n",
        "        return 4  # 7-8 hours\n",
        "    elif 'More than 8 hours' in value or '8-9 hours' in value or '9-11 hours' in value:\n",
        "        return 5  # > 8 hours\n",
        "    else:\n",
        "        return -1  # Placeholder for other invalid or unclear values\n",
        "\n",
        "sleep_mapping = {\n",
        "    'More than 8 hours': '>8',\n",
        "    'Less than 5 hours': '<5',\n",
        "    'Moderate': '5-6 hours',\n",
        "    '9-6 hours': '6-9 hours',\n",
        "\n",
        "    '10-6 hours': '6-10 hours',\n",
        "    'than 5 hours': '4-6 hours',\n",
        "    'Unhealthy': '4-6 hours',\n",
        "    '9-5 hours': '5-9 hours',\n",
        "    '9-5': '5-9 hours',\n",
        "    '8-89 hours': '8-9 hours',\n",
        "\n",
        "    # Ambiguous or irrelevant entries\n",
        "    'Sleep_Duration': None, '40-45 hours': None, '55-66 hours': None, 'Indore': None,\n",
        "    '45': None, '35-36 hours': None, 'No': None, 'Indore': None, '49 hours': None,\n",
        "    'Work_Study_Hours': None, '45-48 hours': None, 'Pune': None, 'Soham': None,\n",
        "    '0': None, 'Meerut': None, '60-65 hours': None, 'Vivan': None,\n",
        "    'Have_you_ever_had_suicidal_thoughts': None, '20-21 hours': None, '50-75 hours': None\n",
        "}\n",
        "\n",
        "# Define range extraction function\n",
        "def extract_range(value):\n",
        "    try:\n",
        "        if '-' in value:\n",
        "            parts = value.split('-')\n",
        "            return int(parts[0]), int(parts[1].split()[0])\n",
        "        elif '<' in value:\n",
        "            return 3, 5\n",
        "        elif '>' in value:\n",
        "            lower_bound = int(value.split('>')[1].split()[0])\n",
        "            return lower_bound, 10\n",
        "        elif value.isdigit():\n",
        "            num = int(value)\n",
        "            return num, num\n",
        "        else:\n",
        "            return None, None\n",
        "    except:\n",
        "        return None, None"
      ],
      "metadata": {
        "id": "Kv_Tsp9Gxkl9"
      },
      "execution_count": 20,
      "outputs": []
    },
    {
      "cell_type": "code",
      "source": [
        "train_set['Sleep Duration'] = train_set['Sleep Duration'].map(sleep_mapping)\n",
        "test_set['Sleep Duration'] = test_set['Sleep Duration'].map(sleep_mapping)\n",
        "\n",
        "train_set['Sleep_Duration_Encoded'] = train_set['Sleep Duration'].apply(encode_sleep_duration)\n",
        "test_set['Sleep_Duration_Encoded'] = test_set['Sleep Duration'].apply(encode_sleep_duration)\n",
        "\n",
        "# Apply the function to create 'From' and 'To' columns\n",
        "train_set[['From', 'To']] = train_set['Sleep Duration'].apply(lambda x: pd.Series(extract_range(x)))\n",
        "test_set[['From', 'To']] = test_set['Sleep Duration'].apply(lambda x: pd.Series(extract_range(x)))\n",
        "\n",
        "# Handle missing values\n",
        "train_set['From'] = train_set['From'].fillna(train_set['From'].mean())\n",
        "train_set['To'] = train_set['To'].fillna(train_set['To'].mean())\n",
        "\n",
        "test_set['From'] = test_set['From'].fillna(test_set['From'].mean())\n",
        "test_set['To'] = test_set['To'].fillna(test_set['To'].mean())\n",
        "\n",
        "# Drop the original column if not needed\n",
        "train_set.drop(columns=['Sleep Duration'], inplace=True)\n",
        "test_set.drop(columns=['Sleep Duration'], inplace=True)"
      ],
      "metadata": {
        "id": "l9dczY77kt9q"
      },
      "execution_count": 21,
      "outputs": []
    },
    {
      "cell_type": "code",
      "source": [
        "print(\"Train set shape:\", train_set.shape)\n",
        "print(\"Test set shape:\", test_set.shape)"
      ],
      "metadata": {
        "colab": {
          "base_uri": "https://localhost:8080/"
        },
        "id": "mDylv8whlYyB",
        "outputId": "d2ff4ae4-2b31-483e-e212-a1eb4e09ce87"
      },
      "execution_count": 22,
      "outputs": [
        {
          "output_type": "stream",
          "name": "stdout",
          "text": [
            "Train set shape: (140700, 118)\n",
            "Test set shape: (93800, 118)\n"
          ]
        }
      ]
    },
    {
      "cell_type": "code",
      "source": [
        "# Define mapping for valid dietary habits\n",
        "dietary_mapping = {\n",
        "    'Moderate': 'Moderate',\n",
        "    'Unhealthy': 'Unhealthy',\n",
        "    'Healthy': 'Healthy',\n",
        "    'More Healthy': 'Healthy',\n",
        "    'Less Healthy': 'Unhealthy',\n",
        "    'Less than Healthy': 'Unhealthy',\n",
        "    'No Healthy': 'Unhealthy',\n",
        "    '3': 'Moderate',\n",
        "    '1.0': 'Unhealthy',\n",
        "    '2': 'Moderate',\n",
        "    '5 Healthy': 'Healthy',\n",
        "    '5 Unhealthy': 'Unhealthy',\n",
        "\n",
        "    # Ambiguous or irrelevant entries\n",
        "    'Yes': None, 'No': None, 'No Healthy': None, 'Class 12': None, 'Indoor': None,\n",
        "    'Male': None, 'Vegas': None, 'M.Tech': None, 'Electrician': None,\n",
        "    'Hormonal': None, 'Mihir': None, 'Gender': None, 'BSc': None,\n",
        "    'Pratham': None, 'Prachi': None, 'Resistant': None, 'Mealy': None,\n",
        "\n",
        "    'nan': None, 'Academic': None, 'Educational': None, 'Soham': None,\n",
        "    'Naina': None, 'Kolkata': None, 'Raghav': None, 'Vivaan': None,  'MCA': None,\n",
        "}\n",
        "\n",
        "# Apply the mapping to the Dietary Habits column\n",
        "train_set['Dietary Habits'] = train_set['Dietary Habits'].map(dietary_mapping)\n",
        "train_set['Dietary Habits'] = train_set['Dietary Habits'].fillna('X')\n",
        "\n",
        "test_set['Dietary Habits'] = test_set['Dietary Habits'].map(dietary_mapping)\n",
        "test_set['Dietary Habits'] = test_set['Dietary Habits'].fillna('X')\n",
        "\n",
        "freq = train_set['Dietary Habits'].value_counts()\n",
        "train_set['Dietary Habits_freq'] = train_set['Dietary Habits'].map(freq) # frequency encoding\n",
        "test_set['Dietary Habits_freq'] = test_set['Dietary Habits'].map(freq) # frequency encoding\n",
        "\n",
        "# Save the original number of rows for splitting later\n",
        "train_size = len(train_set)\n",
        "\n",
        "# Concatenate train and test sets\n",
        "concat_set = pd.concat([train_set, test_set], axis=0)\n",
        "\n",
        "# Apply one-hot encoding to the concatenated set\n",
        "concat_set = pd.get_dummies(concat_set, columns=['Dietary Habits'])\n",
        "\n",
        "# Split the concatenated set back into train and test sets\n",
        "train_set = concat_set.iloc[:train_size, :].copy()  # Get the original train rows\n",
        "test_set = concat_set.iloc[train_size:, :].copy()   # Get the original test rows"
      ],
      "metadata": {
        "id": "IB0XfR0by2P6"
      },
      "execution_count": 23,
      "outputs": []
    },
    {
      "cell_type": "code",
      "source": [
        "print(\"Train set shape:\", train_set.shape)\n",
        "print(\"Test set shape:\", test_set.shape)"
      ],
      "metadata": {
        "colab": {
          "base_uri": "https://localhost:8080/"
        },
        "id": "fIvbQJxZh7Rt",
        "outputId": "4cf2f1b4-6a36-4e12-ce2d-12bfb8a806a8"
      },
      "execution_count": 24,
      "outputs": [
        {
          "output_type": "stream",
          "name": "stdout",
          "text": [
            "Train set shape: (140700, 122)\n",
            "Test set shape: (93800, 122)\n"
          ]
        }
      ]
    },
    {
      "cell_type": "markdown",
      "source": [
        "# Last Check before tuning"
      ],
      "metadata": {
        "id": "-otnVCUlPdVI"
      }
    },
    {
      "cell_type": "code",
      "source": [
        "# Check for columns with object data type in train_set and test_set\n",
        "train_object_columns = train_set.select_dtypes(include=['object']).columns\n",
        "test_object_columns = test_set.select_dtypes(include=['object']).columns\n",
        "\n",
        "print(\"Object columns in train_set:\", train_object_columns.tolist())\n",
        "print(\"Object columns in test_set:\", test_object_columns.tolist())\n",
        "\n",
        "# Check for columns with missing values in train_set and test_set\n",
        "train_missing = train_set.isna().sum()\n",
        "test_missing = test_set.isna().sum()\n",
        "\n",
        "print(\"\\nColumns with missing values in train_set:\")\n",
        "print(train_missing[train_missing > 0])\n",
        "\n",
        "print(\"\\nColumns with missing values in test_set:\")\n",
        "print(test_missing[test_missing > 0])\n"
      ],
      "metadata": {
        "colab": {
          "base_uri": "https://localhost:8080/"
        },
        "id": "w9bJQt9-mr6C",
        "outputId": "962d1aa8-efa8-4b87-f74a-031d24e2ddac"
      },
      "execution_count": 25,
      "outputs": [
        {
          "output_type": "stream",
          "name": "stdout",
          "text": [
            "Object columns in train_set: []\n",
            "Object columns in test_set: []\n",
            "\n",
            "Columns with missing values in train_set:\n",
            "Series([], dtype: int64)\n",
            "\n",
            "Columns with missing values in test_set:\n",
            "Series([], dtype: int64)\n"
          ]
        }
      ]
    },
    {
      "cell_type": "markdown",
      "source": [
        "# Create a validation set"
      ],
      "metadata": {
        "id": "syziP-LePQWa"
      }
    },
    {
      "cell_type": "code",
      "source": [
        "X = train_set.copy()\n",
        "y = target_variable\n",
        "\n",
        "# Initial split for training and validation\n",
        "X_train, X_val, y_train, y_val = train_test_split(X, y, test_size=0.07, stratify=y, random_state=42)\n",
        "\n",
        "# Print the count of True and False in both train and validation sets\n",
        "print(\"Training set class distribution:\\n\", y_train.value_counts())\n",
        "print(\"Validation set class distribution:\\n\", y_val.value_counts())"
      ],
      "metadata": {
        "colab": {
          "base_uri": "https://localhost:8080/"
        },
        "id": "YzZnoXOIGbOg",
        "outputId": "da9309f3-2f73-4fad-a60e-de73448a284f"
      },
      "execution_count": 26,
      "outputs": [
        {
          "output_type": "stream",
          "name": "stdout",
          "text": [
            "Training set class distribution:\n",
            " Depression\n",
            "0    107073\n",
            "1     23777\n",
            "Name: count, dtype: int64\n",
            "Validation set class distribution:\n",
            " Depression\n",
            "0    8060\n",
            "1    1790\n",
            "Name: count, dtype: int64\n"
          ]
        }
      ]
    },
    {
      "cell_type": "markdown",
      "source": [
        "# Extreme Gradient Boosting"
      ],
      "metadata": {
        "id": "XM21929pP3z-"
      }
    },
    {
      "cell_type": "code",
      "source": [
        "# Define parameter search space\n",
        "search_spaces = {\n",
        "    'learning_rate': Real(0.0001, 0.5, 'uniform'),\n",
        "    'max_depth': Integer(2, 200),\n",
        "    'n_estimators': Integer(100, 1000),\n",
        "}\n",
        "\n",
        "# Initialize the XGBClassifier model with GPU support\n",
        "model = xgb.XGBClassifier(\n",
        "    objective='binary:logistic',  # Use for binary classification\n",
        "    tree_method='hist',  # Use GPU for training\n",
        "    verbosity=2\n",
        ")\n",
        "\n",
        "kf = KFold(n_splits=3)  # 5-fold cross-validation\n",
        "\n",
        "# Use 'accuracy' as the scoring metric\n",
        "optimizer = BayesSearchCV(\n",
        "    estimator=model,\n",
        "    search_spaces=search_spaces,\n",
        "    n_iter=64,\n",
        "    cv=kf,\n",
        "    scoring='accuracy',  # Change scoring metric to accuracy\n",
        "    verbose=1,\n",
        "    n_jobs=-1,\n",
        "    return_train_score=True\n",
        ")\n",
        "\n",
        "# Fit the optimizer using X_train and y_train\n",
        "optimizer.fit(X_train, y_train)\n",
        "\n",
        "# Get cross-validation results\n",
        "cv_results = optimizer.cv_results_\n",
        "\n",
        "# Create a DataFrame to sort and filter the best models\n",
        "results_df = pd.DataFrame(cv_results)\n",
        "top_5_results = results_df.nlargest(5, 'mean_test_score')  # Get top 5 models by mean test score\n",
        "\n",
        "# Train each of the top 5 models on the full training data and save them\n",
        "top_5_models = []\n",
        "for i, row in top_5_results.iterrows():\n",
        "    params = row['params']\n",
        "    model = xgb.XGBClassifier(\n",
        "        objective='binary:logistic',\n",
        "        tree_method='hist',\n",
        "        **params\n",
        "    )\n",
        "    model.fit(X_train, y_train)\n",
        "    top_5_models.append(model)\n",
        "\n",
        "# Print parameters and scores for the top 5 models\n",
        "for idx, model in enumerate(top_5_models):\n",
        "    print(f\"Model {idx + 1} parameters: {top_5_results.iloc[idx]['params']}\")\n",
        "    print(f\"Model {idx + 1} CV score: {top_5_results.iloc[idx]['mean_test_score']}\")\n",
        "\n",
        "print(\"Top 5 XGBoost models based on accuracy have been trained and saved.\")\n"
      ],
      "metadata": {
        "colab": {
          "base_uri": "https://localhost:8080/"
        },
        "id": "afVvwGfYG4nh",
        "outputId": "ec5b4354-580c-4a7d-dfd6-ed2cd742cf09"
      },
      "execution_count": null,
      "outputs": [
        {
          "output_type": "stream",
          "name": "stdout",
          "text": [
            "Fitting 3 folds for each of 1 candidates, totalling 3 fits\n",
            "Fitting 3 folds for each of 1 candidates, totalling 3 fits\n",
            "Fitting 3 folds for each of 1 candidates, totalling 3 fits\n",
            "Fitting 3 folds for each of 1 candidates, totalling 3 fits\n",
            "Fitting 3 folds for each of 1 candidates, totalling 3 fits\n",
            "Fitting 3 folds for each of 1 candidates, totalling 3 fits\n",
            "Fitting 3 folds for each of 1 candidates, totalling 3 fits\n",
            "Fitting 3 folds for each of 1 candidates, totalling 3 fits\n",
            "Fitting 3 folds for each of 1 candidates, totalling 3 fits\n",
            "Fitting 3 folds for each of 1 candidates, totalling 3 fits\n",
            "Fitting 3 folds for each of 1 candidates, totalling 3 fits\n",
            "Fitting 3 folds for each of 1 candidates, totalling 3 fits\n",
            "Fitting 3 folds for each of 1 candidates, totalling 3 fits\n",
            "Fitting 3 folds for each of 1 candidates, totalling 3 fits\n",
            "Fitting 3 folds for each of 1 candidates, totalling 3 fits\n",
            "Fitting 3 folds for each of 1 candidates, totalling 3 fits\n",
            "Fitting 3 folds for each of 1 candidates, totalling 3 fits\n",
            "Fitting 3 folds for each of 1 candidates, totalling 3 fits\n",
            "Fitting 3 folds for each of 1 candidates, totalling 3 fits\n",
            "Fitting 3 folds for each of 1 candidates, totalling 3 fits\n",
            "Fitting 3 folds for each of 1 candidates, totalling 3 fits\n",
            "Fitting 3 folds for each of 1 candidates, totalling 3 fits\n",
            "Fitting 3 folds for each of 1 candidates, totalling 3 fits\n",
            "Fitting 3 folds for each of 1 candidates, totalling 3 fits\n",
            "Fitting 3 folds for each of 1 candidates, totalling 3 fits\n",
            "Fitting 3 folds for each of 1 candidates, totalling 3 fits\n",
            "Fitting 3 folds for each of 1 candidates, totalling 3 fits\n",
            "Fitting 3 folds for each of 1 candidates, totalling 3 fits\n",
            "Fitting 3 folds for each of 1 candidates, totalling 3 fits\n",
            "Fitting 3 folds for each of 1 candidates, totalling 3 fits\n",
            "Fitting 3 folds for each of 1 candidates, totalling 3 fits\n",
            "Fitting 3 folds for each of 1 candidates, totalling 3 fits\n",
            "Fitting 3 folds for each of 1 candidates, totalling 3 fits\n",
            "Fitting 3 folds for each of 1 candidates, totalling 3 fits\n",
            "Fitting 3 folds for each of 1 candidates, totalling 3 fits\n",
            "Fitting 3 folds for each of 1 candidates, totalling 3 fits\n",
            "Fitting 3 folds for each of 1 candidates, totalling 3 fits\n",
            "Fitting 3 folds for each of 1 candidates, totalling 3 fits\n",
            "Fitting 3 folds for each of 1 candidates, totalling 3 fits\n",
            "Fitting 3 folds for each of 1 candidates, totalling 3 fits\n",
            "Fitting 3 folds for each of 1 candidates, totalling 3 fits\n",
            "Fitting 3 folds for each of 1 candidates, totalling 3 fits\n",
            "Fitting 3 folds for each of 1 candidates, totalling 3 fits\n",
            "Fitting 3 folds for each of 1 candidates, totalling 3 fits\n",
            "Fitting 3 folds for each of 1 candidates, totalling 3 fits\n",
            "Fitting 3 folds for each of 1 candidates, totalling 3 fits\n",
            "Fitting 3 folds for each of 1 candidates, totalling 3 fits\n",
            "Fitting 3 folds for each of 1 candidates, totalling 3 fits\n",
            "Fitting 3 folds for each of 1 candidates, totalling 3 fits\n",
            "Fitting 3 folds for each of 1 candidates, totalling 3 fits\n",
            "Fitting 3 folds for each of 1 candidates, totalling 3 fits\n",
            "Fitting 3 folds for each of 1 candidates, totalling 3 fits\n",
            "Fitting 3 folds for each of 1 candidates, totalling 3 fits\n",
            "Fitting 3 folds for each of 1 candidates, totalling 3 fits\n",
            "Fitting 3 folds for each of 1 candidates, totalling 3 fits\n",
            "Fitting 3 folds for each of 1 candidates, totalling 3 fits\n",
            "Fitting 3 folds for each of 1 candidates, totalling 3 fits\n",
            "Fitting 3 folds for each of 1 candidates, totalling 3 fits\n",
            "Fitting 3 folds for each of 1 candidates, totalling 3 fits\n",
            "Fitting 3 folds for each of 1 candidates, totalling 3 fits\n",
            "Fitting 3 folds for each of 1 candidates, totalling 3 fits\n",
            "Fitting 3 folds for each of 1 candidates, totalling 3 fits\n",
            "Fitting 3 folds for each of 1 candidates, totalling 3 fits\n",
            "Fitting 3 folds for each of 1 candidates, totalling 3 fits\n",
            "Model 1 parameters: OrderedDict([('learning_rate', 0.3162089388136676), ('max_depth', 3), ('n_estimators', 131)])\n",
            "Model 1 CV score: 0.9392128298935587\n",
            "Model 2 parameters: OrderedDict([('learning_rate', 0.18696571043453358), ('max_depth', 3), ('n_estimators', 132)])\n",
            "Model 2 CV score: 0.9391134777985566\n",
            "Model 3 parameters: OrderedDict([('learning_rate', 0.45159792579312347), ('max_depth', 2), ('n_estimators', 232)])\n",
            "Model 3 CV score: 0.9390829128831703\n",
            "Model 4 parameters: OrderedDict([('learning_rate', 0.31724573563187286), ('max_depth', 2), ('n_estimators', 100)])\n",
            "Model 4 CV score: 0.9390294109647254\n",
            "Model 5 parameters: OrderedDict([('learning_rate', 0.10910495819379294), ('max_depth', 4), ('n_estimators', 136)])\n",
            "Model 5 CV score: 0.9388383539609576\n",
            "Top 5 XGBoost models based on accuracy have been trained and saved.\n"
          ]
        }
      ]
    },
    {
      "cell_type": "code",
      "source": [
        "from sklearn.metrics import roc_curve, auc, confusion_matrix, ConfusionMatrixDisplay\n",
        "import matplotlib.pyplot as plt\n",
        "\n",
        "model_params = [\n",
        "    {'learning_rate': 0.3162089388136676, 'max_depth': 3, 'n_estimators': 131},\n",
        "    {'learning_rate': 0.18696571043453358, 'max_depth': 3, 'n_estimators': 132},\n",
        "    {'learning_rate': 0.45159792579312347, 'max_depth': 2, 'n_estimators': 232},\n",
        "    {'learning_rate': 0.31724573563187286, 'max_depth': 2, 'n_estimators': 100},\n",
        "    {'learning_rate': 0.10910495819379294, 'max_depth': 4, 'n_estimators': 136},\n",
        "]\n",
        "\n",
        "# Initialize and train models\n",
        "top_5_models = []\n",
        "for params in model_params:\n",
        "    model = XGBClassifier(**params, eval_metric='error')  # Avoid warnings\n",
        "    model.fit(X_train, y_train)  # Ensure X_train and y_train are defined\n",
        "    top_5_models.append(model)\n",
        "\n",
        "# Assuming X_val and y_val are your validation features and target\n",
        "for idx, model in enumerate(top_5_models):\n",
        "    y_pred_proba = model.predict_proba(X_val)[:, 1]  # Predicted probabilities for the positive class\n",
        "    fpr, tpr, _ = roc_curve(y_val, y_pred_proba)\n",
        "    roc_auc = auc(fpr, tpr)\n",
        "\n",
        "    plt.plot(fpr, tpr, label=f'Model {idx + 1} (AUC = {roc_auc:.5f})')\n",
        "\n",
        "# Plot baseline and finalize ROC curve\n",
        "plt.plot([0, 1], [0, 1], 'k--', label='Random Chance')\n",
        "plt.xlabel('False Positive Rate')\n",
        "plt.ylabel('True Positive Rate')\n",
        "plt.title('ROC Curve for Top 5 Models')\n",
        "plt.legend(loc='lower right')\n",
        "plt.grid(True)\n",
        "plt.show()\n"
      ],
      "metadata": {
        "id": "aXPv9hO1KXKf",
        "outputId": "c13638d7-2c3d-4a48-81c7-0cd10934e7f9",
        "colab": {
          "base_uri": "https://localhost:8080/",
          "height": 472
        }
      },
      "execution_count": 25,
      "outputs": [
        {
          "output_type": "display_data",
          "data": {
            "text/plain": [
              "<Figure size 640x480 with 1 Axes>"
            ],
            "image/png": "[encoded data removed]"
          },
          "metadata": {}
        }
      ]
    },
    {
      "cell_type": "code",
      "source": [
        "from sklearn.metrics import confusion_matrix, ConfusionMatrixDisplay\n",
        "\n",
        "best_model = top_5_models[0] #choose the model here 0-4\n",
        "y_pred = best_model.predict(X_val)\n",
        "\n",
        "# Compute confusion matrix\n",
        "cm = confusion_matrix(y_val, y_pred)\n",
        "print(accuracy_score(y_val, y_pred))\n",
        "# Plot confusion matrix with colors\n",
        "disp = ConfusionMatrixDisplay(confusion_matrix=cm, display_labels=best_model.classes_)\n",
        "disp.plot(cmap=plt.cm.Blues)\n",
        "plt.title(\"Confusion Matrix for Best Model\")\n",
        "plt.show()\n"
      ],
      "metadata": {
        "id": "ypQ2UFCBKz8v",
        "outputId": "31f7f1e1-d2f1-416b-cd81-43f5cbf9867a",
        "colab": {
          "base_uri": "https://localhost:8080/",
          "height": 490
        }
      },
      "execution_count": 37,
      "outputs": [
        {
          "output_type": "stream",
          "name": "stdout",
          "text": [
            "0.9365482233502538\n"
          ]
        },
        {
          "output_type": "display_data",
          "data": {
            "text/plain": [
              "<Figure size 640x480 with 2 Axes>"
            ],
            "image/png": "[encoded data removed]"
          },
          "metadata": {}
        }
      ]
    },
    {
      "cell_type": "markdown",
      "source": [
        "# Random Forest"
      ],
      "metadata": {
        "id": "wibfmE86P9KC"
      }
    },
    {
      "cell_type": "code",
      "source": [
        "from sklearn.ensemble import RandomForestClassifier\n",
        "from sklearn.model_selection import KFold\n",
        "from skopt import BayesSearchCV\n",
        "from skopt.space import Real, Integer\n",
        "import pandas as pd\n",
        "\n",
        "# Define parameter search space\n",
        "search_spaces = {\n",
        "    'n_estimators': Integer(100, 1000),  # Number of trees\n",
        "    'max_depth': Integer(2, 400),        # Maximum depth of trees\n",
        "}\n",
        "\n",
        "# Initialize the RandomForestClassifier model\n",
        "model = RandomForestClassifier(random_state=42)\n",
        "\n",
        "# Use 5-fold cross-validation\n",
        "kf = KFold(n_splits=3, shuffle=True, random_state=42)\n",
        "\n",
        "# Use 'accuracy' as the scoring metric\n",
        "optimizer = BayesSearchCV(\n",
        "    estimator=model,\n",
        "    search_spaces=search_spaces,\n",
        "    n_iter=64,           # Number of parameter sets to try\n",
        "    cv=kf,                # Cross-validation strategy\n",
        "    scoring='accuracy',   # Scoring metric\n",
        "    verbose=1,\n",
        "    n_jobs=-1,            # Use all available cores\n",
        "    return_train_score=True\n",
        ")\n",
        "\n",
        "# Fit the optimizer using X_train and y_train\n",
        "optimizer.fit(X_train, y_train)\n",
        "\n",
        "# Get cross-validation results\n",
        "cv_results = optimizer.cv_results_\n",
        "\n",
        "# Create a DataFrame to sort and filter the best models\n",
        "results_df = pd.DataFrame(cv_results)\n",
        "top_5_results = results_df.nlargest(5, 'mean_test_score')  # Get top 15 models by mean test score\n",
        "\n",
        "# Train each of the top 15 models on the full training data and save them\n",
        "top_5_models = []\n",
        "for i, row in top_5_results.iterrows():\n",
        "    params = row['params']\n",
        "    model = RandomForestClassifier(random_state=42, **params)\n",
        "    model.fit(X_train, y_train)\n",
        "    top_5_models.append(model)\n",
        "\n",
        "# Print parameters and scores for the top 15 models\n",
        "for idx, model in enumerate(top_5_models):\n",
        "    print(f\"Model {idx + 1} parameters: {top_5_results.iloc[idx]['params']}\")\n",
        "    print(f\"Model {idx + 1} CV score: {top_5_results.iloc[idx]['mean_test_score']}\")\n",
        "\n",
        "print(\"Top 5 Random Forest models based on accuracy have been trained and saved.\")\n"
      ],
      "metadata": {
        "colab": {
          "base_uri": "https://localhost:8080/"
        },
        "id": "r02RF3Nr3KH0",
        "outputId": "db0e1fb1-b5c6-4cda-b2cf-fc4eb906e56f"
      },
      "execution_count": null,
      "outputs": [
        {
          "output_type": "stream",
          "name": "stdout",
          "text": [
            "Fitting 3 folds for each of 1 candidates, totalling 3 fits\n",
            "Fitting 3 folds for each of 1 candidates, totalling 3 fits\n",
            "Fitting 3 folds for each of 1 candidates, totalling 3 fits\n",
            "Fitting 3 folds for each of 1 candidates, totalling 3 fits\n",
            "Fitting 3 folds for each of 1 candidates, totalling 3 fits\n",
            "Fitting 3 folds for each of 1 candidates, totalling 3 fits\n",
            "Fitting 3 folds for each of 1 candidates, totalling 3 fits\n",
            "Fitting 3 folds for each of 1 candidates, totalling 3 fits\n",
            "Fitting 3 folds for each of 1 candidates, totalling 3 fits\n",
            "Fitting 3 folds for each of 1 candidates, totalling 3 fits\n",
            "Fitting 3 folds for each of 1 candidates, totalling 3 fits\n",
            "Fitting 3 folds for each of 1 candidates, totalling 3 fits\n",
            "Fitting 3 folds for each of 1 candidates, totalling 3 fits\n",
            "Fitting 3 folds for each of 1 candidates, totalling 3 fits\n",
            "Fitting 3 folds for each of 1 candidates, totalling 3 fits\n",
            "Fitting 3 folds for each of 1 candidates, totalling 3 fits\n",
            "Fitting 3 folds for each of 1 candidates, totalling 3 fits\n",
            "Fitting 3 folds for each of 1 candidates, totalling 3 fits\n",
            "Fitting 3 folds for each of 1 candidates, totalling 3 fits\n",
            "Fitting 3 folds for each of 1 candidates, totalling 3 fits\n",
            "Fitting 3 folds for each of 1 candidates, totalling 3 fits\n",
            "Fitting 3 folds for each of 1 candidates, totalling 3 fits\n",
            "Fitting 3 folds for each of 1 candidates, totalling 3 fits\n",
            "Fitting 3 folds for each of 1 candidates, totalling 3 fits\n",
            "Fitting 3 folds for each of 1 candidates, totalling 3 fits\n",
            "Fitting 3 folds for each of 1 candidates, totalling 3 fits\n",
            "Fitting 3 folds for each of 1 candidates, totalling 3 fits\n",
            "Fitting 3 folds for each of 1 candidates, totalling 3 fits\n",
            "Fitting 3 folds for each of 1 candidates, totalling 3 fits\n",
            "Fitting 3 folds for each of 1 candidates, totalling 3 fits\n",
            "Fitting 3 folds for each of 1 candidates, totalling 3 fits\n",
            "Fitting 3 folds for each of 1 candidates, totalling 3 fits\n",
            "Fitting 3 folds for each of 1 candidates, totalling 3 fits\n",
            "Fitting 3 folds for each of 1 candidates, totalling 3 fits\n",
            "Fitting 3 folds for each of 1 candidates, totalling 3 fits\n",
            "Fitting 3 folds for each of 1 candidates, totalling 3 fits\n",
            "Fitting 3 folds for each of 1 candidates, totalling 3 fits\n",
            "Fitting 3 folds for each of 1 candidates, totalling 3 fits\n",
            "Fitting 3 folds for each of 1 candidates, totalling 3 fits\n",
            "Fitting 3 folds for each of 1 candidates, totalling 3 fits\n",
            "Fitting 3 folds for each of 1 candidates, totalling 3 fits\n",
            "Fitting 3 folds for each of 1 candidates, totalling 3 fits\n",
            "Fitting 3 folds for each of 1 candidates, totalling 3 fits\n",
            "Fitting 3 folds for each of 1 candidates, totalling 3 fits\n",
            "Fitting 3 folds for each of 1 candidates, totalling 3 fits\n",
            "Fitting 3 folds for each of 1 candidates, totalling 3 fits\n",
            "Fitting 3 folds for each of 1 candidates, totalling 3 fits\n",
            "Fitting 3 folds for each of 1 candidates, totalling 3 fits\n",
            "Fitting 3 folds for each of 1 candidates, totalling 3 fits\n",
            "Fitting 3 folds for each of 1 candidates, totalling 3 fits\n",
            "Fitting 3 folds for each of 1 candidates, totalling 3 fits\n",
            "Fitting 3 folds for each of 1 candidates, totalling 3 fits\n",
            "Fitting 3 folds for each of 1 candidates, totalling 3 fits\n",
            "Fitting 3 folds for each of 1 candidates, totalling 3 fits\n",
            "Fitting 3 folds for each of 1 candidates, totalling 3 fits\n",
            "Fitting 3 folds for each of 1 candidates, totalling 3 fits\n",
            "Fitting 3 folds for each of 1 candidates, totalling 3 fits\n",
            "Fitting 3 folds for each of 1 candidates, totalling 3 fits\n",
            "Fitting 3 folds for each of 1 candidates, totalling 3 fits\n",
            "Fitting 3 folds for each of 1 candidates, totalling 3 fits\n",
            "Fitting 3 folds for each of 1 candidates, totalling 3 fits\n",
            "Fitting 3 folds for each of 1 candidates, totalling 3 fits\n",
            "Fitting 3 folds for each of 1 candidates, totalling 3 fits\n",
            "Fitting 3 folds for each of 1 candidates, totalling 3 fits\n",
            "Model 1 parameters: OrderedDict([('max_depth', 400), ('n_estimators', 947)])\n",
            "Model 1 CV score: 0.9362094081873761\n",
            "Model 2 parameters: OrderedDict([('max_depth', 392), ('n_estimators', 943)])\n",
            "Model 2 CV score: 0.9361711969618399\n",
            "Model 3 parameters: OrderedDict([('max_depth', 104), ('n_estimators', 968)])\n",
            "Model 3 CV score: 0.9361482701213877\n",
            "Model 4 parameters: OrderedDict([('max_depth', 307), ('n_estimators', 1000)])\n",
            "Model 4 CV score: 0.9361406276660196\n",
            "Model 5 parameters: OrderedDict([('max_depth', 90), ('n_estimators', 1000)])\n",
            "Model 5 CV score: 0.9361406276660196\n",
            "Top 5 Random Forest models based on accuracy have been trained and saved.\n"
          ]
        }
      ]
    },
    {
      "cell_type": "code",
      "source": [
        "from sklearn.ensemble import RandomForestClassifier\n",
        "\n",
        "model_params = [\n",
        "    {'max_depth': 400, 'n_estimators': 947},\n",
        "    {'max_depth': 392, 'n_estimators': 943},\n",
        "    {'max_depth': 104, 'n_estimators': 968},\n",
        "    {'max_depth': 307, 'n_estimators': 1000},\n",
        "    {'max_depth': 90, 'n_estimators': 1000},\n",
        "\n",
        "]\n",
        "\n",
        "# Initialize and train models\n",
        "top_5_models = []\n",
        "for params in model_params:\n",
        "    model = RandomForestClassifier(**params, random_state=42)\n",
        "    model.fit(X_train, y_train)\n",
        "    top_5_models.append(model)\n",
        "\n",
        "# Assuming X_val and y_val are your validation features and target\n",
        "for idx, model in enumerate(top_5_models):\n",
        "    y_pred_proba = model.predict_proba(X_val)[:, 1]  # Predicted probabilities for the positive class\n",
        "    fpr, tpr, _ = roc_curve(y_val, y_pred_proba)\n",
        "    roc_auc = auc(fpr, tpr)\n",
        "\n",
        "    plt.plot(fpr, tpr, label=f'Model {idx + 1} (AUC = {roc_auc:.5f})')\n",
        "\n",
        "# Plot baseline and finalize ROC curve\n",
        "plt.plot([0, 1], [0, 1], 'k--', label='Random Chance')\n",
        "plt.xlabel('False Positive Rate')\n",
        "plt.ylabel('True Positive Rate')\n",
        "plt.title('ROC Curve for Top 5 Models')\n",
        "plt.legend(loc='lower right')\n",
        "plt.grid(True)\n",
        "plt.show()\n"
      ],
      "metadata": {
        "id": "RQWENzHOP2MY",
        "outputId": "e1dc039a-55db-4c85-9a21-f86ae2ea5eac",
        "colab": {
          "base_uri": "https://localhost:8080/",
          "height": 472
        }
      },
      "execution_count": 29,
      "outputs": [
        {
          "output_type": "display_data",
          "data": {
            "text/plain": [
              "<Figure size 640x480 with 1 Axes>"
            ],
            "image/png": "[encoded data removed]"
          },
          "metadata": {}
        }
      ]
    },
    {
      "cell_type": "code",
      "source": [
        "from sklearn.metrics import confusion_matrix, ConfusionMatrixDisplay\n",
        "\n",
        "best_model = top_5_models[4] #choose the model here 0-4\n",
        "y_pred = best_model.predict(X_val)\n",
        "\n",
        "# Compute confusion matrix\n",
        "cm = confusion_matrix(y_val, y_pred)\n",
        "print(accuracy_score(y_val, y_pred))\n",
        "# Plot confusion matrix with colors\n",
        "disp = ConfusionMatrixDisplay(confusion_matrix=cm, display_labels=best_model.classes_)\n",
        "disp.plot(cmap=plt.cm.Blues)\n",
        "plt.title(\"Confusion Matrix for Best Model\")\n",
        "plt.show()\n"
      ],
      "metadata": {
        "id": "yllCbLlPQuTA",
        "outputId": "f944dd9c-e455-47ea-feba-45aa62962db4",
        "colab": {
          "base_uri": "https://localhost:8080/",
          "height": 490
        }
      },
      "execution_count": 35,
      "outputs": [
        {
          "output_type": "stream",
          "name": "stdout",
          "text": [
            "0.9368527918781726\n"
          ]
        },
        {
          "output_type": "display_data",
          "data": {
            "text/plain": [
              "<Figure size 640x480 with 2 Axes>"
            ],
            "image/png": "[encoded data removed]"
          },
          "metadata": {}
        }
      ]
    },
    {
      "cell_type": "markdown",
      "source": [
        "# Logistic Regression"
      ],
      "metadata": {
        "id": "AcrI749YYKMU"
      }
    },
    {
      "cell_type": "code",
      "source": [
        "from sklearn.linear_model import LogisticRegression\n",
        "from sklearn.metrics import accuracy_score, roc_curve, auc\n",
        "import matplotlib.pyplot as plt\n",
        "\n",
        "# Define and train the Logistic Regression model\n",
        "logistic_model = LogisticRegression(max_iter=10000)  # Increase max_iter for convergence\n",
        "logistic_model.fit(X_train, y_train)  # Train the model on training data\n",
        "\n",
        "# Make predictions and evaluate the model\n",
        "y_pred = logistic_model.predict(X_val)  # Predicted labels\n",
        "y_pred_proba = logistic_model.predict_proba(X_val)[:, 1]  # Predicted probabilities for positive class\n",
        "\n",
        "# Accuracy score\n",
        "accuracy = accuracy_score(y_val, y_pred)\n",
        "print(f\"Validation Accuracy: {accuracy:.4f}\")\n",
        "\n",
        "# Plot ROC Curve\n",
        "fpr, tpr, _ = roc_curve(y_val, y_pred_proba)\n",
        "roc_auc = auc(fpr, tpr)\n",
        "\n",
        "plt.figure(figsize=(8, 6))\n",
        "plt.plot(fpr, tpr, label=f\"Logistic Regression (AUC = {roc_auc:.5f})\")\n",
        "plt.plot([0, 1], [0, 1], 'k--', label='Random Chance')\n",
        "plt.xlabel('False Positive Rate')\n",
        "plt.ylabel('True Positive Rate')\n",
        "plt.title('ROC Curve for Logistic Regression')\n",
        "plt.legend(loc='lower right')\n",
        "plt.grid(True)\n",
        "plt.show()\n"
      ],
      "metadata": {
        "id": "kDz2iqsNYGIn",
        "outputId": "b318cd11-f578-45e8-cf97-7aee0748a657",
        "colab": {
          "base_uri": "https://localhost:8080/",
          "height": 728
        }
      },
      "execution_count": 32,
      "outputs": [
        {
          "output_type": "stream",
          "name": "stderr",
          "text": [
            "/usr/local/lib/python3.10/dist-packages/sklearn/linear_model/_logistic.py:469: ConvergenceWarning: lbfgs failed to converge (status=1):\n",
            "STOP: TOTAL NO. of ITERATIONS REACHED LIMIT.\n",
            "\n",
            "Increase the number of iterations (max_iter) or scale the data as shown in:\n",
            "    https://scikit-learn.org/stable/modules/preprocessing.html\n",
            "Please also refer to the documentation for alternative solver options:\n",
            "    https://scikit-learn.org/stable/modules/linear_model.html#logistic-regression\n",
            "  n_iter_i = _check_optimize_result(\n"
          ]
        },
        {
          "output_type": "stream",
          "name": "stdout",
          "text": [
            "Validation Accuracy: 0.9358\n"
          ]
        },
        {
          "output_type": "display_data",
          "data": {
            "text/plain": [
              "<Figure size 800x600 with 1 Axes>"
            ],
            "image/png": "[encoded data removed]"
          },
          "metadata": {}
        }
      ]
    },
    {
      "cell_type": "code",
      "source": [
        "y_pred = logistic_model.predict(X_val)\n",
        "\n",
        "# Compute confusion matrix\n",
        "cm = confusion_matrix(y_val, y_pred)\n",
        "print(accuracy_score(y_val, y_pred))\n",
        "# Plot confusion matrix with colors\n",
        "disp = ConfusionMatrixDisplay(confusion_matrix=cm, display_labels=best_model.classes_)\n",
        "disp.plot(cmap=plt.cm.Blues)\n",
        "plt.title(\"Confusion Matrix for Logistic Regression\")\n",
        "plt.show()"
      ],
      "metadata": {
        "id": "ia8kpCr3ZzPg",
        "outputId": "91ddb987-e0af-48c1-a5ac-8e01d4089fea",
        "colab": {
          "base_uri": "https://localhost:8080/",
          "height": 490
        }
      },
      "execution_count": 34,
      "outputs": [
        {
          "output_type": "stream",
          "name": "stdout",
          "text": [
            "0.9358375634517766\n"
          ]
        },
        {
          "output_type": "display_data",
          "data": {
            "text/plain": [
              "<Figure size 640x480 with 2 Axes>"
            ],
            "image/png": "[encoded data removed]"
          },
          "metadata": {}
        }
      ]
    },
    {
      "cell_type": "markdown",
      "source": [
        "# Simple MLP"
      ],
      "metadata": {
        "id": "wHHDkJnsbQQL"
      }
    },
    {
      "cell_type": "code",
      "source": [
        "import numpy as np\n",
        "\n",
        "X_train = np.array(X_train).astype('float32')  # Ensure features are float32\n",
        "y_train = np.array(y_train).astype('float32')  # Labels should be float32 or int32\n",
        "X_val = np.array(X_val).astype('float32')      # Validation features\n",
        "y_val = np.array(y_val).astype('float32')      # Validation labels\n"
      ],
      "metadata": {
        "id": "fS-ItJGRg4-1"
      },
      "execution_count": 30,
      "outputs": []
    },
    {
      "cell_type": "code",
      "source": [
        "import tensorflow as tf\n",
        "from tensorflow.keras.models import Sequential\n",
        "from tensorflow.keras.layers import Dense\n",
        "from tensorflow.keras.optimizers import Adam\n",
        "from sklearn.metrics import roc_curve, auc\n",
        "import matplotlib.pyplot as plt\n",
        "import numpy as np\n",
        "\n",
        "from tensorflow.keras.layers import Dropout\n",
        "model = Sequential([\n",
        "    Dense(128, activation='elu', input_shape=(X_train.shape[1],), kernel_regularizer=tf.keras.regularizers.l2(0.01)),\n",
        "    Dropout(0.2),  # Drop 20% of neurons randomly\n",
        "    Dense(64, activation='relu', kernel_regularizer=tf.keras.regularizers.l2(0.01)),\n",
        "    Dropout(0.2),\n",
        "    Dense(1, activation='sigmoid')\n",
        "])\n",
        "\n",
        "\n",
        "# Compile the model\n",
        "model.compile(optimizer=Adam(learning_rate=0.001), loss='binary_crossentropy', metrics=['accuracy'])\n",
        "\n",
        "# Train the model with verbose output\n",
        "history = model.fit(\n",
        "    X_train, y_train,\n",
        "    validation_data=(X_val, y_val),\n",
        "    epochs=60,\n",
        "    batch_size=64,\n",
        "    verbose=1  # Verbose mode: 1 for detailed output\n",
        ")\n",
        "\n",
        "# Evaluate the model\n",
        "loss, accuracy = model.evaluate(X_val, y_val, verbose=1)  # Verbose here too\n",
        "print(f\"Validation Accuracy: {accuracy:.4f}\")\n",
        "\n",
        "# Plot ROC Curve\n",
        "y_pred_proba = model.predict(X_val).ravel()\n",
        "fpr, tpr, _ = roc_curve(y_val, y_pred_proba)\n",
        "roc_auc = auc(fpr, tpr)\n",
        "\n",
        "plt.figure(figsize=(8, 6))\n",
        "plt.plot(fpr, tpr, label=f\"TPU-Accelerated MLP (AUC = {roc_auc:.5f})\")\n",
        "plt.plot([0, 1], [0, 1], 'k--', label='Random Chance')\n",
        "plt.xlabel('False Positive Rate')\n",
        "plt.ylabel('True Positive Rate')\n",
        "plt.title('ROC Curve for TPU-Accelerated MLP')\n",
        "plt.legend(loc='lower right')\n",
        "plt.grid(True)\n",
        "plt.show()\n"
      ],
      "metadata": {
        "id": "WtL4Z0YAgtQA",
        "outputId": "d3f37c3c-276c-4b6c-98c1-58b0e82510e3",
        "colab": {
          "base_uri": "https://localhost:8080/",
          "height": 1000
        }
      },
      "execution_count": 37,
      "outputs": [
        {
          "output_type": "stream",
          "name": "stdout",
          "text": [
            "Epoch 1/60\n",
            "2045/2045 [==============================] - 5s 2ms/step - loss: 19.4376 - accuracy: 0.8088 - val_loss: 0.8575 - val_accuracy: 0.8184\n",
            "Epoch 2/60\n",
            "2045/2045 [==============================] - 5s 2ms/step - loss: 0.8672 - accuracy: 0.8181 - val_loss: 0.8161 - val_accuracy: 0.8183\n",
            "Epoch 3/60\n",
            "2045/2045 [==============================] - 5s 2ms/step - loss: 0.7584 - accuracy: 0.8182 - val_loss: 0.6587 - val_accuracy: 0.8183\n",
            "Epoch 4/60\n",
            "2045/2045 [==============================] - 5s 2ms/step - loss: 0.6506 - accuracy: 0.8182 - val_loss: 0.5616 - val_accuracy: 0.8183\n",
            "Epoch 5/60\n",
            "2045/2045 [==============================] - 5s 2ms/step - loss: 0.5586 - accuracy: 0.8182 - val_loss: 0.4776 - val_accuracy: 0.8183\n",
            "Epoch 6/60\n",
            "2045/2045 [==============================] - 4s 2ms/step - loss: 0.4852 - accuracy: 0.8182 - val_loss: 0.4237 - val_accuracy: 0.8183\n",
            "Epoch 7/60\n",
            "2045/2045 [==============================] - 4s 2ms/step - loss: 0.4443 - accuracy: 0.8181 - val_loss: 0.3895 - val_accuracy: 0.8183\n",
            "Epoch 8/60\n",
            "2045/2045 [==============================] - 4s 2ms/step - loss: 0.4265 - accuracy: 0.8180 - val_loss: 0.3838 - val_accuracy: 0.8183\n",
            "Epoch 9/60\n",
            "2045/2045 [==============================] - 5s 2ms/step - loss: 0.4171 - accuracy: 0.8182 - val_loss: 0.3705 - val_accuracy: 0.8183\n",
            "Epoch 10/60\n",
            "2045/2045 [==============================] - 4s 2ms/step - loss: 0.4081 - accuracy: 0.8183 - val_loss: 0.3695 - val_accuracy: 0.8183\n",
            "Epoch 11/60\n",
            "2045/2045 [==============================] - 5s 2ms/step - loss: 0.4077 - accuracy: 0.8183 - val_loss: 0.3670 - val_accuracy: 0.8183\n",
            "Epoch 12/60\n",
            "2045/2045 [==============================] - 4s 2ms/step - loss: 0.4069 - accuracy: 0.8183 - val_loss: 0.3671 - val_accuracy: 0.8183\n",
            "Epoch 13/60\n",
            "2045/2045 [==============================] - 5s 2ms/step - loss: 0.4008 - accuracy: 0.8183 - val_loss: 0.3588 - val_accuracy: 0.8183\n",
            "Epoch 14/60\n",
            "2045/2045 [==============================] - 5s 2ms/step - loss: 0.3835 - accuracy: 0.8183 - val_loss: 0.3539 - val_accuracy: 0.8183\n",
            "Epoch 15/60\n",
            "2045/2045 [==============================] - 4s 2ms/step - loss: 0.3826 - accuracy: 0.8183 - val_loss: 0.3551 - val_accuracy: 0.8183\n",
            "Epoch 16/60\n",
            "2045/2045 [==============================] - 4s 2ms/step - loss: 0.3921 - accuracy: 0.8183 - val_loss: 0.3585 - val_accuracy: 0.8183\n",
            "Epoch 17/60\n",
            "2045/2045 [==============================] - 4s 2ms/step - loss: 0.3810 - accuracy: 0.8183 - val_loss: 0.3543 - val_accuracy: 0.8183\n",
            "Epoch 18/60\n",
            "2045/2045 [==============================] - 4s 2ms/step - loss: 0.3725 - accuracy: 0.8183 - val_loss: 0.3526 - val_accuracy: 0.8183\n",
            "Epoch 19/60\n",
            "2045/2045 [==============================] - 4s 2ms/step - loss: 0.3715 - accuracy: 0.8183 - val_loss: 0.3698 - val_accuracy: 0.8183\n",
            "Epoch 20/60\n",
            "2045/2045 [==============================] - 4s 2ms/step - loss: 0.3691 - accuracy: 0.8183 - val_loss: 0.3498 - val_accuracy: 0.8183\n",
            "Epoch 21/60\n",
            "2045/2045 [==============================] - 5s 2ms/step - loss: 0.3736 - accuracy: 0.8183 - val_loss: 0.3590 - val_accuracy: 0.8183\n",
            "Epoch 22/60\n",
            "2045/2045 [==============================] - 5s 2ms/step - loss: 0.3746 - accuracy: 0.8183 - val_loss: 0.3611 - val_accuracy: 0.8183\n",
            "Epoch 23/60\n",
            "2045/2045 [==============================] - 5s 2ms/step - loss: 0.3741 - accuracy: 0.8183 - val_loss: 0.3543 - val_accuracy: 0.8183\n",
            "Epoch 24/60\n",
            "2045/2045 [==============================] - 5s 2ms/step - loss: 0.3749 - accuracy: 0.8183 - val_loss: 0.3653 - val_accuracy: 0.8183\n",
            "Epoch 25/60\n",
            "2045/2045 [==============================] - 4s 2ms/step - loss: 0.3737 - accuracy: 0.8183 - val_loss: 0.3520 - val_accuracy: 0.8183\n",
            "Epoch 26/60\n",
            "2045/2045 [==============================] - 5s 2ms/step - loss: 0.3745 - accuracy: 0.8183 - val_loss: 0.3619 - val_accuracy: 0.8183\n",
            "Epoch 27/60\n",
            "2045/2045 [==============================] - 4s 2ms/step - loss: 0.3728 - accuracy: 0.8183 - val_loss: 0.3518 - val_accuracy: 0.8183\n",
            "Epoch 28/60\n",
            "2045/2045 [==============================] - 5s 2ms/step - loss: 0.3740 - accuracy: 0.8183 - val_loss: 0.3709 - val_accuracy: 0.8183\n",
            "Epoch 29/60\n",
            "2045/2045 [==============================] - 5s 2ms/step - loss: 0.3740 - accuracy: 0.8183 - val_loss: 0.3511 - val_accuracy: 0.8183\n",
            "Epoch 30/60\n",
            "2045/2045 [==============================] - 4s 2ms/step - loss: 0.3745 - accuracy: 0.8183 - val_loss: 0.3551 - val_accuracy: 0.8183\n",
            "Epoch 31/60\n",
            "2045/2045 [==============================] - 5s 2ms/step - loss: 0.3749 - accuracy: 0.8183 - val_loss: 0.3555 - val_accuracy: 0.8183\n",
            "Epoch 32/60\n",
            "2045/2045 [==============================] - 5s 2ms/step - loss: 0.3720 - accuracy: 0.8183 - val_loss: 0.3508 - val_accuracy: 0.8183\n",
            "Epoch 33/60\n",
            "2045/2045 [==============================] - 4s 2ms/step - loss: 0.3720 - accuracy: 0.8183 - val_loss: 0.3510 - val_accuracy: 0.8183\n",
            "Epoch 34/60\n",
            "2045/2045 [==============================] - 5s 2ms/step - loss: 0.3733 - accuracy: 0.8183 - val_loss: 0.3502 - val_accuracy: 0.8183\n",
            "Epoch 35/60\n",
            "2045/2045 [==============================] - 5s 2ms/step - loss: 0.3736 - accuracy: 0.8183 - val_loss: 0.3512 - val_accuracy: 0.8183\n",
            "Epoch 36/60\n",
            "2045/2045 [==============================] - 5s 2ms/step - loss: 0.3731 - accuracy: 0.8183 - val_loss: 0.3656 - val_accuracy: 0.8183\n",
            "Epoch 37/60\n",
            "2045/2045 [==============================] - 4s 2ms/step - loss: 0.3727 - accuracy: 0.8183 - val_loss: 0.3501 - val_accuracy: 0.8183\n",
            "Epoch 38/60\n",
            "2045/2045 [==============================] - 5s 2ms/step - loss: 0.3738 - accuracy: 0.8183 - val_loss: 0.3503 - val_accuracy: 0.8183\n",
            "Epoch 39/60\n",
            "2045/2045 [==============================] - 5s 2ms/step - loss: 0.3723 - accuracy: 0.8183 - val_loss: 0.3525 - val_accuracy: 0.8183\n",
            "Epoch 40/60\n",
            "2045/2045 [==============================] - 5s 2ms/step - loss: 0.3736 - accuracy: 0.8183 - val_loss: 0.3521 - val_accuracy: 0.8183\n",
            "Epoch 41/60\n",
            "2045/2045 [==============================] - 5s 2ms/step - loss: 0.3740 - accuracy: 0.8183 - val_loss: 0.3547 - val_accuracy: 0.8183\n",
            "Epoch 42/60\n",
            "2045/2045 [==============================] - 5s 2ms/step - loss: 0.3718 - accuracy: 0.8183 - val_loss: 0.3523 - val_accuracy: 0.8183\n",
            "Epoch 43/60\n",
            "2045/2045 [==============================] - 4s 2ms/step - loss: 0.3726 - accuracy: 0.8183 - val_loss: 0.3510 - val_accuracy: 0.8183\n",
            "Epoch 44/60\n",
            "2045/2045 [==============================] - 5s 2ms/step - loss: 0.3724 - accuracy: 0.8183 - val_loss: 0.3522 - val_accuracy: 0.8183\n",
            "Epoch 45/60\n",
            "2045/2045 [==============================] - 5s 2ms/step - loss: 0.3705 - accuracy: 0.8183 - val_loss: 0.3503 - val_accuracy: 0.8183\n",
            "Epoch 46/60\n",
            "2045/2045 [==============================] - 5s 2ms/step - loss: 0.3677 - accuracy: 0.8183 - val_loss: 0.3483 - val_accuracy: 0.8183\n",
            "Epoch 47/60\n",
            "2045/2045 [==============================] - 5s 2ms/step - loss: 0.3672 - accuracy: 0.8183 - val_loss: 0.3476 - val_accuracy: 0.8183\n",
            "Epoch 48/60\n",
            "2045/2045 [==============================] - 4s 2ms/step - loss: 0.3661 - accuracy: 0.8183 - val_loss: 0.3484 - val_accuracy: 0.8183\n",
            "Epoch 49/60\n",
            "2045/2045 [==============================] - 4s 2ms/step - loss: 0.4008 - accuracy: 0.8183 - val_loss: 0.4089 - val_accuracy: 0.8183\n",
            "Epoch 50/60\n",
            "2045/2045 [==============================] - 5s 2ms/step - loss: 0.4107 - accuracy: 0.8183 - val_loss: 0.4097 - val_accuracy: 0.8183\n",
            "Epoch 51/60\n",
            "2045/2045 [==============================] - 5s 2ms/step - loss: 0.3884 - accuracy: 0.8183 - val_loss: 0.3538 - val_accuracy: 0.8183\n",
            "Epoch 52/60\n",
            "2045/2045 [==============================] - 5s 2ms/step - loss: 0.3922 - accuracy: 0.8183 - val_loss: 0.3486 - val_accuracy: 0.8183\n",
            "Epoch 53/60\n",
            "2045/2045 [==============================] - 5s 2ms/step - loss: 0.3654 - accuracy: 0.8183 - val_loss: 0.3654 - val_accuracy: 0.8183\n",
            "Epoch 54/60\n",
            "2045/2045 [==============================] - 5s 2ms/step - loss: 0.3943 - accuracy: 0.8183 - val_loss: 0.3556 - val_accuracy: 0.8183\n",
            "Epoch 55/60\n",
            "2045/2045 [==============================] - 5s 2ms/step - loss: 0.3910 - accuracy: 0.8183 - val_loss: 0.3497 - val_accuracy: 0.8183\n",
            "Epoch 56/60\n",
            "2045/2045 [==============================] - 4s 2ms/step - loss: 0.3956 - accuracy: 0.8183 - val_loss: 0.3563 - val_accuracy: 0.8183\n",
            "Epoch 57/60\n",
            "2045/2045 [==============================] - 4s 2ms/step - loss: 0.3870 - accuracy: 0.8183 - val_loss: 0.3515 - val_accuracy: 0.8183\n",
            "Epoch 58/60\n",
            "2045/2045 [==============================] - 5s 2ms/step - loss: 0.3754 - accuracy: 0.8183 - val_loss: 0.3696 - val_accuracy: 0.8183\n",
            "Epoch 59/60\n",
            "2045/2045 [==============================] - 4s 2ms/step - loss: 0.3874 - accuracy: 0.8184 - val_loss: 0.3547 - val_accuracy: 0.8183\n",
            "Epoch 60/60\n",
            "2045/2045 [==============================] - 5s 2ms/step - loss: 0.3892 - accuracy: 0.8183 - val_loss: 0.3561 - val_accuracy: 0.8183\n",
            "308/308 [==============================] - 0s 1ms/step - loss: 0.3561 - accuracy: 0.8183\n",
            "Validation Accuracy: 0.8183\n",
            "308/308 [==============================] - 0s 1ms/step\n"
          ]
        },
        {
          "output_type": "display_data",
          "data": {
            "text/plain": [
              "<Figure size 800x600 with 1 Axes>"
            ],
            "image/png": "[encoded data removed]"
          },
          "metadata": {}
        }
      ]
    },
    {
      "cell_type": "code",
      "source": [
        "from sklearn.neural_network import MLPClassifier\n",
        "from sklearn.metrics import accuracy_score, roc_curve, auc\n",
        "import matplotlib.pyplot as plt\n",
        "\n",
        "# Define and train the MLP model\n",
        "mlp_model = MLPClassifier(\n",
        "    hidden_layer_sizes=(128, 256, 128),  #\n",
        "    activation='relu',\n",
        "    solver='adam',\n",
        "    max_iter=200,\n",
        "    random_state=42,\n",
        "    verbose=True,\n",
        "    learning_rate_init=0.001,\n",
        "    early_stopping=False,\n",
        "    batch_size=32,\n",
        "    learning_rate='adaptive'\n",
        "\n",
        ")\n",
        "\n",
        "# Train the model\n",
        "mlp_model.fit(X_train, y_train)\n",
        "\n",
        "# Make predictions\n",
        "y_pred = mlp_model.predict(X_val)  # Predicted labels\n",
        "y_pred_proba = mlp_model.predict_proba(X_val)[:, 1]  # Predicted probabilities for positive class\n",
        "\n",
        "# Evaluate the model\n",
        "accuracy = accuracy_score(y_val, y_pred)\n",
        "print(f\"Validation Accuracy: {accuracy:.4f}\")\n",
        "\n",
        "# Plot ROC Curve\n",
        "fpr, tpr, _ = roc_curve(y_val, y_pred_proba)\n",
        "roc_auc = auc(fpr, tpr)\n",
        "\n",
        "plt.figure(figsize=(8, 6))\n",
        "plt.plot(fpr, tpr, label=f\"MLP (AUC = {roc_auc:.5f})\")\n",
        "plt.plot([0, 1], [0, 1], 'k--', label='Random Chance')\n",
        "plt.xlabel('False Positive Rate')\n",
        "plt.ylabel('True Positive Rate')\n",
        "plt.title('ROC Curve for MLP')\n",
        "plt.legend(loc='lower right')\n",
        "plt.grid(True)\n",
        "plt.show()\n"
      ],
      "metadata": {
        "id": "gN_-iN8fbUCJ",
        "outputId": "6a95793a-960f-455a-f06c-20d6489164aa",
        "colab": {
          "base_uri": "https://localhost:8080/",
          "height": 747
        }
      },
      "execution_count": 41,
      "outputs": [
        {
          "output_type": "stream",
          "name": "stdout",
          "text": [
            "Iteration 1, loss = 2.13450675\n",
            "Iteration 2, loss = 0.38939077\n",
            "Iteration 3, loss = 0.48507490\n",
            "Iteration 4, loss = 0.48074718\n",
            "Iteration 5, loss = 0.44706752\n",
            "Iteration 6, loss = 0.48348256\n",
            "Iteration 7, loss = 0.47523559\n"
          ]
        },
        {
          "output_type": "stream",
          "name": "stderr",
          "text": [
            "/usr/local/lib/python3.10/dist-packages/sklearn/neural_network/_multilayer_perceptron.py:697: UserWarning: Training interrupted by user.\n",
            "  warnings.warn(\"Training interrupted by user.\")\n"
          ]
        },
        {
          "output_type": "stream",
          "name": "stdout",
          "text": [
            "Validation Accuracy: 0.8183\n"
          ]
        },
        {
          "output_type": "display_data",
          "data": {
            "text/plain": [
              "<Figure size 800x600 with 1 Axes>"
            ],
            "image/png": "[encoded data removed]"
          },
          "metadata": {}
        }
      ]
    },
    {
      "cell_type": "code",
      "source": [
        "# Provided model parameters\n",
        "model_parameters = [\n",
        "    {'colsample_bytree': 1.0, 'gamma': 0.0, 'learning_rate': 0.17498071644573762, 'max_depth': 2,\n",
        "     'n_estimators': 500, 'reg_alpha': 0.0, 'reg_lambda': 9.151145867495522, 'subsample': 0.5},\n",
        "    {'colsample_bytree': 1.0, 'gamma': 0.0, 'learning_rate': 0.2549581698910242, 'max_depth': 2,\n",
        "     'n_estimators': 265, 'reg_alpha': 4.038289521295645, 'reg_lambda': 10.0, 'subsample': 0.9960867858635486},\n",
        "    {'colsample_bytree': 0.8795506374579873, 'gamma': 0.0, 'learning_rate': 0.30421049078309637, 'max_depth': 2,\n",
        "     'n_estimators': 486, 'reg_alpha': 0.0, 'reg_lambda': 8.866224462355815, 'subsample': 0.9749930308767123},\n",
        "    {'colsample_bytree': 0.5, 'gamma': 0.0, 'learning_rate': 0.16493489467143477, 'max_depth': 2,\n",
        "     'n_estimators': 483, 'reg_alpha': 3.3240779723362874, 'reg_lambda': 0.0, 'subsample': 0.5338992950605351},\n",
        "    {'colsample_bytree': 1.0, 'gamma': 0.0, 'learning_rate': 0.15176332186610494, 'max_depth': 2,\n",
        "     'n_estimators': 500, 'reg_alpha': 6.242954728815679, 'reg_lambda': 10.0, 'subsample': 0.5},\n",
        "    {'colsample_bytree': 0.5, 'gamma': 0.0, 'learning_rate': 0.13040617716396105, 'max_depth': 3,\n",
        "     'n_estimators': 206, 'reg_alpha': 0.0, 'reg_lambda': 0.10848609573480272, 'subsample': 0.5},\n",
        "    {'colsample_bytree': 1.0, 'gamma': 0.0, 'learning_rate': 0.16770145742460443, 'max_depth': 2,\n",
        "     'n_estimators': 458, 'reg_alpha': 10.0, 'reg_lambda': 10.0, 'subsample': 0.5},\n",
        "    {'colsample_bytree': 0.8129503564108058, 'gamma': 0.0, 'learning_rate': 0.15802399297592248, 'max_depth': 2,\n",
        "     'n_estimators': 500, 'reg_alpha': 0.0, 'reg_lambda': 0.0, 'subsample': 0.7829437669435633},\n",
        "    {'colsample_bytree': 0.5472210854922583, 'gamma': 0.36891517213378583, 'learning_rate': 0.2042057552362013,\n",
        "     'max_depth': 3, 'n_estimators': 477, 'reg_alpha': 9.418738411067523, 'reg_lambda': 9.882994460606403, 'subsample': 0.6009453161350771},\n",
        "    {'colsample_bytree': 0.5, 'gamma': 3.8813896117418527, 'learning_rate': 0.23171050419161035, 'max_depth': 2,\n",
        "     'n_estimators': 500, 'reg_alpha': 9.299861755925473, 'reg_lambda': 9.860246011624099, 'subsample': 0.5},\n",
        "    {'colsample_bytree': 0.5187090871871713, 'gamma': 1.9371693716260263, 'learning_rate': 0.08135956297056286,\n",
        "     'max_depth': 53, 'n_estimators': 391, 'reg_alpha': 9.572358158935941, 'reg_lambda': 0.3420957950727914, 'subsample': 0.5990142142660962},\n",
        "    {'colsample_bytree': 0.5375742997971107, 'gamma': 1.4236931028578583, 'learning_rate': 0.17856328866164642,\n",
        "     'max_depth': 3, 'n_estimators': 221, 'reg_alpha': 4.49220653483089, 'reg_lambda': 7.841135497386919, 'subsample': 0.799031526237848},\n",
        "    {'colsample_bytree': 0.6558257910115323, 'gamma': 1.7417863837760763, 'learning_rate': 0.05590885653026205,\n",
        "     'max_depth': 3, 'n_estimators': 435, 'reg_alpha': 9.858087481320169, 'reg_lambda': 0.34221958921542345, 'subsample': 0.9809061058838722},\n",
        "    {'colsample_bytree': 0.5742198876061808, 'gamma': 2.464551380974906, 'learning_rate': 0.09180938836310773,\n",
        "     'max_depth': 2, 'n_estimators': 375, 'reg_alpha': 4.614280204189711, 'reg_lambda': 4.688090936618526, 'subsample': 0.9982576387424718},\n",
        "    {'colsample_bytree': 0.5, 'gamma': 10.0, 'learning_rate': 0.17462497230623591, 'max_depth': 2,\n",
        "     'n_estimators': 500, 'reg_alpha': 0.0, 'reg_lambda': 0.0, 'subsample': 0.5}\n",
        "]\n",
        "\n",
        "# Initialize arrays to store predictions\n",
        "train_predictions = []\n",
        "val_predictions = []\n",
        "test_predictions = []\n",
        "\n",
        "# Train models and collect predictions\n",
        "for idx, params in enumerate(model_parameters, 1):\n",
        "    print(f\"Training Model {idx} with parameters: {params}\")\n",
        "\n",
        "    # Initialize XGBoost model with parameters\n",
        "    model = xgb.XGBClassifier(objective='binary:logistic', eval_metric='error', **params)\n",
        "\n",
        "    # Train the model on the meta-train set\n",
        "    model.fit(X_train, y_train)\n",
        "\n",
        "    # Predict on train, validation, and test sets\n",
        "    train_pred = model.predict_proba(X_train)[:, 1]\n",
        "    train_acc = accuracy_score(y_train, (train_pred > 0.5).astype(int))\n",
        "\n",
        "    val_pred = model.predict_proba(X_val)[:, 1]\n",
        "    val_acc = accuracy_score(y_val, (val_pred > 0.5).astype(int))\n",
        "\n",
        "    test_pred = model.predict_proba(test_set)[:, 1]\n",
        "    print(f\"Train-Val Accuracy: {train_acc}-{val_acc}\")\n",
        "    # Append predictions to the respective arrays\n",
        "    train_predictions.append(train_pred)\n",
        "    val_predictions.append(val_pred)\n",
        "    test_predictions.append(test_pred)"
      ],
      "metadata": {
        "id": "N77LsygjI6cI",
        "outputId": "773a678a-8396-4905-b550-7b2ef6b4987f",
        "colab": {
          "base_uri": "https://localhost:8080/"
        }
      },
      "execution_count": null,
      "outputs": [
        {
          "output_type": "stream",
          "name": "stdout",
          "text": [
            "Training Model 1 with parameters: {'colsample_bytree': 1.0, 'gamma': 0.0, 'learning_rate': 0.17498071644573762, 'max_depth': 2, 'n_estimators': 500, 'reg_alpha': 0.0, 'reg_lambda': 9.151145867495522, 'subsample': 0.5}\n",
            "Train-Val Accuracy: 0.9411234237676729-0.9388832487309645\n",
            "Training Model 2 with parameters: {'colsample_bytree': 1.0, 'gamma': 0.0, 'learning_rate': 0.2549581698910242, 'max_depth': 2, 'n_estimators': 265, 'reg_alpha': 4.038289521295645, 'reg_lambda': 10.0, 'subsample': 0.9960867858635486}\n",
            "Train-Val Accuracy: 0.940703095147115-0.9403045685279188\n",
            "Training Model 3 with parameters: {'colsample_bytree': 0.8795506374579873, 'gamma': 0.0, 'learning_rate': 0.30421049078309637, 'max_depth': 2, 'n_estimators': 486, 'reg_alpha': 0.0, 'reg_lambda': 8.866224462355815, 'subsample': 0.9749930308767123}\n",
            "Train-Val Accuracy: 0.9421627818112343-0.939492385786802\n",
            "Training Model 4 with parameters: {'colsample_bytree': 0.5, 'gamma': 0.0, 'learning_rate': 0.16493489467143477, 'max_depth': 2, 'n_estimators': 483, 'reg_alpha': 3.3240779723362874, 'reg_lambda': 0.0, 'subsample': 0.5338992950605351}\n",
            "Train-Val Accuracy: 0.9410240733664501-0.9401015228426396\n",
            "Training Model 5 with parameters: {'colsample_bytree': 1.0, 'gamma': 0.0, 'learning_rate': 0.15176332186610494, 'max_depth': 2, 'n_estimators': 500, 'reg_alpha': 6.242954728815679, 'reg_lambda': 10.0, 'subsample': 0.5}\n",
            "Train-Val Accuracy: 0.9408865112724494-0.941015228426396\n",
            "Training Model 6 with parameters: {'colsample_bytree': 0.5, 'gamma': 0.0, 'learning_rate': 0.13040617716396105, 'max_depth': 3, 'n_estimators': 206, 'reg_alpha': 0.0, 'reg_lambda': 0.10848609573480272, 'subsample': 0.5}\n",
            "Train-Val Accuracy: 0.941176920137562-0.9395939086294416\n",
            "Training Model 7 with parameters: {'colsample_bytree': 1.0, 'gamma': 0.0, 'learning_rate': 0.16770145742460443, 'max_depth': 2, 'n_estimators': 458, 'reg_alpha': 10.0, 'reg_lambda': 10.0, 'subsample': 0.5}\n",
            "Train-Val Accuracy: 0.9409017959495606-0.9396954314720812\n",
            "Training Model 8 with parameters: {'colsample_bytree': 0.8129503564108058, 'gamma': 0.0, 'learning_rate': 0.15802399297592248, 'max_depth': 2, 'n_estimators': 500, 'reg_alpha': 0.0, 'reg_lambda': 0.0, 'subsample': 0.7829437669435633}\n",
            "Train-Val Accuracy: 0.9414978983568972-0.9396954314720812\n",
            "Training Model 9 with parameters: {'colsample_bytree': 0.5472210854922583, 'gamma': 0.36891517213378583, 'learning_rate': 0.2042057552362013, 'max_depth': 3, 'n_estimators': 477, 'reg_alpha': 9.418738411067523, 'reg_lambda': 9.882994460606403, 'subsample': 0.6009453161350771}\n",
            "Train-Val Accuracy: 0.9428276652655713-0.9402030456852792\n",
            "Training Model 10 with parameters: {'colsample_bytree': 0.5, 'gamma': 3.8813896117418527, 'learning_rate': 0.23171050419161035, 'max_depth': 2, 'n_estimators': 500, 'reg_alpha': 9.299861755925473, 'reg_lambda': 9.860246011624099, 'subsample': 0.5}\n",
            "Train-Val Accuracy: 0.9402369124952236-0.9409137055837563\n",
            "Training Model 11 with parameters: {'colsample_bytree': 0.5187090871871713, 'gamma': 1.9371693716260263, 'learning_rate': 0.08135956297056286, 'max_depth': 53, 'n_estimators': 391, 'reg_alpha': 9.572358158935941, 'reg_lambda': 0.3420957950727914, 'subsample': 0.5990142142660962}\n",
            "Train-Val Accuracy: 0.9432785632403515-0.9404060913705584\n",
            "Training Model 12 with parameters: {'colsample_bytree': 0.5375742997971107, 'gamma': 1.4236931028578583, 'learning_rate': 0.17856328866164642, 'max_depth': 3, 'n_estimators': 221, 'reg_alpha': 4.49220653483089, 'reg_lambda': 7.841135497386919, 'subsample': 0.799031526237848}\n",
            "Train-Val Accuracy: 0.9415131830340084-0.940507614213198\n",
            "Training Model 13 with parameters: {'colsample_bytree': 0.6558257910115323, 'gamma': 1.7417863837760763, 'learning_rate': 0.05590885653026205, 'max_depth': 3, 'n_estimators': 435, 'reg_alpha': 9.858087481320169, 'reg_lambda': 0.34221958921542345, 'subsample': 0.9809061058838722}\n",
            "Train-Val Accuracy: 0.940512036683225-0.9404060913705584\n",
            "Training Model 14 with parameters: {'colsample_bytree': 0.5742198876061808, 'gamma': 2.464551380974906, 'learning_rate': 0.09180938836310773, 'max_depth': 2, 'n_estimators': 375, 'reg_alpha': 4.614280204189711, 'reg_lambda': 4.688090936618526, 'subsample': 0.9982576387424718}\n",
            "Train-Val Accuracy: 0.9402139854795567-0.94\n",
            "Training Model 15 with parameters: {'colsample_bytree': 0.5, 'gamma': 10.0, 'learning_rate': 0.17462497230623591, 'max_depth': 2, 'n_estimators': 500, 'reg_alpha': 0.0, 'reg_lambda': 0.0, 'subsample': 0.5}\n",
            "Train-Val Accuracy: 0.9396560947649981-0.9403045685279188\n"
          ]
        }
      ]
    },
    {
      "cell_type": "code",
      "source": [
        "import numpy as np\n",
        "\n",
        "# Convert train_predictions (list) to NumPy array\n",
        "train_predictions_array = np.column_stack(train_predictions)\n",
        "\n",
        "# Convert train_predictions_array to a DataFrame\n",
        "train_predictions_df = pd.DataFrame(train_predictions_array, columns=[f\"Model_{i+1}\" for i in range(train_predictions_array.shape[1])])\n",
        "\n",
        "# Similarly for val_predictions and test_predictions\n",
        "val_predictions_array = np.column_stack(val_predictions)\n",
        "val_predictions_df = pd.DataFrame(val_predictions_array, columns=[f\"Model_{i+1}\" for i in range(val_predictions_array.shape[1])])\n",
        "\n",
        "test_predictions_array = np.column_stack(test_predictions)\n",
        "test_predictions_df = pd.DataFrame(test_predictions_array, columns=[f\"Model_{i+1}\" for i in range(test_predictions_array.shape[1])])\n",
        "\n",
        "# Inspect one of the DataFrames\n",
        "print(train_predictions_df.head())"
      ],
      "metadata": {
        "id": "g9WqkZkKLtcn",
        "outputId": "f407755e-ed4d-484f-abbb-e6d7ce960ce9",
        "colab": {
          "base_uri": "https://localhost:8080/"
        }
      },
      "execution_count": null,
      "outputs": [
        {
          "output_type": "stream",
          "name": "stdout",
          "text": [
            "    Model_1   Model_2   Model_3   Model_4   Model_5   Model_6   Model_7  \\\n",
            "0  0.251242  0.226676  0.199309  0.235344  0.188756  0.174904  0.198623   \n",
            "1  0.011884  0.007121  0.007199  0.009190  0.006693  0.007105  0.010315   \n",
            "2  0.084804  0.102299  0.097618  0.118540  0.133718  0.084927  0.134447   \n",
            "3  0.000767  0.000892  0.000593  0.000648  0.000681  0.001192  0.000824   \n",
            "4  0.978974  0.978859  0.984682  0.982335  0.977579  0.968099  0.980950   \n",
            "\n",
            "    Model_8   Model_9  Model_10  Model_11  Model_12  Model_13  Model_14  \\\n",
            "0  0.201382  0.276731  0.207906  0.237120  0.231641  0.181192  0.218942   \n",
            "1  0.007006  0.006442  0.005668  0.008108  0.007390  0.008129  0.007450   \n",
            "2  0.076002  0.094696  0.081722  0.100928  0.084072  0.108933  0.105172   \n",
            "3  0.000711  0.000431  0.000779  0.001496  0.000958  0.001315  0.001490   \n",
            "4  0.979025  0.986072  0.971625  0.976665  0.973480  0.968814  0.973640   \n",
            "\n",
            "   Model_15  \n",
            "0  0.192652  \n",
            "1  0.007817  \n",
            "2  0.102633  \n",
            "3  0.001524  \n",
            "4  0.969462  \n"
          ]
        }
      ]
    },
    {
      "cell_type": "code",
      "source": [
        "from sklearn.linear_model import LogisticRegression\n",
        "from sklearn.metrics import classification_report, accuracy_score\n",
        "import pandas as pd\n",
        "\n",
        "# Train the Logistic Regressor as a meta-model\n",
        "meta_model = LogisticRegression(max_iter=10000)\n",
        "meta_model.fit(val_predictions_df, y_val)\n",
        "\n",
        "# Predict on validation set\n",
        "meta_val_pred = meta_model.predict(val_predictions_df)\n",
        "\n",
        "# Evaluate the meta-model\n",
        "print(\"Classification Report - Meta Model (Validation Set):\")\n",
        "print(classification_report(y_val, meta_val_pred))\n",
        "print(f\"Validation Accuracy: {accuracy_score(y_val, meta_val_pred):.4f}\")\n",
        "\n",
        "# If test_predictions_array is ready\n",
        "meta_test_pred = meta_model.predict(test_predictions_df)\n",
        "\n",
        "from google.colab import files\n",
        "# Prepare the output DataFrame\n",
        "output = pd.DataFrame({'id': test_id.values, 'loan_status': meta_test_pred})\n",
        "\n",
        "# Remove any duplicate rows by 'PassengerId'\n",
        "output.drop_duplicates(subset='id', keep='first', inplace=True)\n",
        "\n",
        "# Save predictions to a CSV file\n",
        "output.to_csv('predictions.csv', index=False)\n",
        "files.download('predictions.csv')"
      ],
      "metadata": {
        "id": "RVuAHpaBMnNc",
        "outputId": "5cba77b8-285a-4034-b1ef-1ba141f08408",
        "colab": {
          "base_uri": "https://localhost:8080/",
          "height": 218
        }
      },
      "execution_count": null,
      "outputs": [
        {
          "output_type": "stream",
          "name": "stdout",
          "text": [
            "Classification Report - Meta Model (Validation Set):\n",
            "              precision    recall  f1-score   support\n",
            "\n",
            "           0       0.96      0.97      0.96     11513\n",
            "           1       0.86      0.80      0.83      2557\n",
            "\n",
            "    accuracy                           0.94     14070\n",
            "   macro avg       0.91      0.89      0.90     14070\n",
            "weighted avg       0.94      0.94      0.94     14070\n",
            "\n",
            "Validation Accuracy: 0.9402\n"
          ]
        },
        {
          "output_type": "display_data",
          "data": {
            "text/plain": [
              "<IPython.core.display.Javascript object>"
            ],
            "application/javascript": [
              "\n",
              "    async function download(id, filename, size) {\n",
              "      if (!google.colab.kernel.accessAllowed) {\n",
              "        return;\n",
              "      }\n",
              "      const div = document.createElement('div');\n",
              "      const label = document.createElement('label');\n",
              "      label.textContent = `Downloading \"${filename}\": `;\n",
              "      div.appendChild(label);\n",
              "      const progress = document.createElement('progress');\n",
              "      progress.max = size;\n",
              "      div.appendChild(progress);\n",
              "      document.body.appendChild(div);\n",
              "\n",
              "      const buffers = [];\n",
              "      let downloaded = 0;\n",
              "\n",
              "      const channel = await google.colab.kernel.comms.open(id);\n",
              "      // Send a message to notify the kernel that we're ready.\n",
              "      channel.send({})\n",
              "\n",
              "      for await (const message of channel.messages) {\n",
              "        // Send a message to notify the kernel that we're ready.\n",
              "        channel.send({})\n",
              "        if (message.buffers) {\n",
              "          for (const buffer of message.buffers) {\n",
              "            buffers.push(buffer);\n",
              "            downloaded += buffer.byteLength;\n",
              "            progress.value = downloaded;\n",
              "          }\n",
              "        }\n",
              "      }\n",
              "      const blob = new Blob(buffers, {type: 'application/binary'});\n",
              "      const a = document.createElement('a');\n",
              "      a.href = window.URL.createObjectURL(blob);\n",
              "      a.download = filename;\n",
              "      div.appendChild(a);\n",
              "      a.click();\n",
              "      div.remove();\n",
              "    }\n",
              "  "
            ]
          },
          "metadata": {}
        },
        {
          "output_type": "display_data",
          "data": {
            "text/plain": [
              "<IPython.core.display.Javascript object>"
            ],
            "application/javascript": [
              "download(\"download_2469152a-5f15-4b91-8003-119e3bb4b029\", \"predictions.csv\", 844215)"
            ]
          },
          "metadata": {}
        }
      ]
    },
    {
      "cell_type": "code",
      "source": [
        "from sklearn.metrics import classification_report\n",
        "import xgboost as xgb\n",
        "\n",
        "params1 = {\n",
        "    'colsample_bytree': 1.0,\n",
        "    'gamma': 0.0,\n",
        "    'learning_rate': 0.14053992185033634,\n",
        "    'max_depth': 2,\n",
        "    'n_estimators': 500,\n",
        "    'reg_alpha': 3.54988240208208,\n",
        "    'reg_lambda': 0.921308795529119,\n",
        "    'subsample': 0.5\n",
        "}\n",
        "# Define the model with the provided parameters\n",
        "xgb_model1 = xgb.XGBClassifier(**params1, eval_metric='error')\n",
        "\n",
        "# Train the model\n",
        "xgb_model1.fit(val_predictions_df, y_val)\n",
        "\n",
        "# Predictions on validation set\n",
        "y_pred_prob_XGB1_val = xgb_model1.predict(val_predictions_df)\n",
        "print(\"Classification Report - Validation:\")\n",
        "print(classification_report(y_val, y_pred_prob_XGB1_val))\n",
        "\n",
        "y_pred_prob_XGB_test = xgb_model1.predict(test_predictions_df)\n",
        "\n",
        "output = pd.DataFrame({'id': test_id.values, 'loan_status': y_pred_prob_XGB_test})\n",
        "\n",
        "# Remove any duplicate rows by 'PassengerId'\n",
        "output.drop_duplicates(subset='id', keep='first', inplace=True)\n",
        "\n",
        "# Save predictions to a CSV file\n",
        "output.to_csv('predictions.csv', index=False)\n",
        "files.download('predictions.csv')"
      ],
      "metadata": {
        "id": "i7SYboydOX-R",
        "outputId": "ed3b524a-5361-4fb2-ad3e-2d55d2ca3dcf",
        "colab": {
          "base_uri": "https://localhost:8080/",
          "height": 200
        }
      },
      "execution_count": null,
      "outputs": [
        {
          "output_type": "stream",
          "name": "stdout",
          "text": [
            "Classification Report - Validation:\n",
            "              precision    recall  f1-score   support\n",
            "\n",
            "           0       0.96      0.97      0.97     11513\n",
            "           1       0.87      0.84      0.85      2557\n",
            "\n",
            "    accuracy                           0.95     14070\n",
            "   macro avg       0.91      0.91      0.91     14070\n",
            "weighted avg       0.95      0.95      0.95     14070\n",
            "\n"
          ]
        },
        {
          "output_type": "display_data",
          "data": {
            "text/plain": [
              "<IPython.core.display.Javascript object>"
            ],
            "application/javascript": [
              "\n",
              "    async function download(id, filename, size) {\n",
              "      if (!google.colab.kernel.accessAllowed) {\n",
              "        return;\n",
              "      }\n",
              "      const div = document.createElement('div');\n",
              "      const label = document.createElement('label');\n",
              "      label.textContent = `Downloading \"${filename}\": `;\n",
              "      div.appendChild(label);\n",
              "      const progress = document.createElement('progress');\n",
              "      progress.max = size;\n",
              "      div.appendChild(progress);\n",
              "      document.body.appendChild(div);\n",
              "\n",
              "      const buffers = [];\n",
              "      let downloaded = 0;\n",
              "\n",
              "      const channel = await google.colab.kernel.comms.open(id);\n",
              "      // Send a message to notify the kernel that we're ready.\n",
              "      channel.send({})\n",
              "\n",
              "      for await (const message of channel.messages) {\n",
              "        // Send a message to notify the kernel that we're ready.\n",
              "        channel.send({})\n",
              "        if (message.buffers) {\n",
              "          for (const buffer of message.buffers) {\n",
              "            buffers.push(buffer);\n",
              "            downloaded += buffer.byteLength;\n",
              "            progress.value = downloaded;\n",
              "          }\n",
              "        }\n",
              "      }\n",
              "      const blob = new Blob(buffers, {type: 'application/binary'});\n",
              "      const a = document.createElement('a');\n",
              "      a.href = window.URL.createObjectURL(blob);\n",
              "      a.download = filename;\n",
              "      div.appendChild(a);\n",
              "      a.click();\n",
              "      div.remove();\n",
              "    }\n",
              "  "
            ]
          },
          "metadata": {}
        },
        {
          "output_type": "display_data",
          "data": {
            "text/plain": [
              "<IPython.core.display.Javascript object>"
            ],
            "application/javascript": [
              "download(\"download_9f813e02-cfaf-4d28-95df-44d12cdd9725\", \"predictions.csv\", 844215)"
            ]
          },
          "metadata": {}
        }
      ]
    }
  ]
}